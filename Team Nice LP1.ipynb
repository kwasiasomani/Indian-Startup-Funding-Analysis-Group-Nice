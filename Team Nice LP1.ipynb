{
 "cells": [
  {
   "cell_type": "markdown",
   "id": "3b2756b8",
   "metadata": {},
   "source": [
    "# Title"
   ]
  },
  {
   "cell_type": "markdown",
   "id": "02e7532a",
   "metadata": {},
   "source": [
    "Indian Companies Initial Startup Capital Analysis"
   ]
  },
  {
   "cell_type": "markdown",
   "id": "d3852780",
   "metadata": {},
   "source": [
    "# Project Description"
   ]
  },
  {
   "cell_type": "markdown",
   "id": "222be9aa",
   "metadata": {},
   "source": [
    "Team niece has been tasked to set out to understand the problem, the indian start up terrain and how best a new business will attract rom investors and propose working course of action.\n",
    "\n"
   ]
  },
  {
   "cell_type": "markdown",
   "id": "f4b214c4",
   "metadata": {},
   "source": [
    "# Hypothesis\n"
   ]
  },
  {
   "cell_type": "markdown",
   "id": "05021e90",
   "metadata": {},
   "source": [
    "# Null Hypothesis, HO\n"
   ]
  },
  {
   "cell_type": "markdown",
   "id": "cd04405d",
   "metadata": {},
   "source": [
    "There are no exact key factors that correlate with the exact amount of funding contributed by the investors."
   ]
  },
  {
   "cell_type": "markdown",
   "id": "0b335416",
   "metadata": {},
   "source": [
    "# AlternativeHypothesis, H1"
   ]
  },
  {
   "cell_type": "markdown",
   "id": "781e8885",
   "metadata": {},
   "source": [
    "There are exact key factors that correlate with the exact amount of funding contributed by investors."
   ]
  },
  {
   "cell_type": "markdown",
   "id": "dc1c6a95",
   "metadata": {},
   "source": [
    "# Questions"
   ]
  },
  {
   "cell_type": "markdown",
   "id": "ba660fc6",
   "metadata": {},
   "source": [
    "1. Which company has the highest amount of funds?\n",
    "2. Which location has the minimum startup funds?\n",
    "3. In which sector has the top 10 investors.\n",
    "4. How much did the investors contributed in Delhi and Mumbai?\n",
    "5. How many companies received an amount greater than or equal to the average amount?"
   ]
  },
  {
   "cell_type": "markdown",
   "id": "1980292c",
   "metadata": {},
   "source": [
    "# Importation"
   ]
  },
  {
   "cell_type": "markdown",
   "id": "cccf1b5c",
   "metadata": {},
   "source": [
    "Here is the section to import all the packages/libraries that will be used through this notebook."
   ]
  },
  {
   "cell_type": "code",
   "execution_count": 1,
   "id": "c995e954",
   "metadata": {},
   "outputs": [
    {
     "name": "stderr",
     "output_type": "stream",
     "text": [
      "C:\\Users\\asant\\anaconda3\\lib\\site-packages\\scipy\\__init__.py:146: UserWarning: A NumPy version >=1.16.5 and <1.23.0 is required for this version of SciPy (detected version 1.23.4\n",
      "  warnings.warn(f\"A NumPy version >={np_minversion} and <{np_maxversion}\"\n"
     ]
    },
    {
     "data": {
      "text/plain": [
       "Ellipsis"
      ]
     },
     "execution_count": 1,
     "metadata": {},
     "output_type": "execute_result"
    }
   ],
   "source": [
    "# Data handling\n",
    "import pandas as pd\n",
    "import numpy as np\n",
    "from sklearn.impute import SimpleImputer\n",
    "import warnings\n",
    "warnings.filterwarnings('ignore')\n",
    "\n",
    "\n",
    "# Vizualisation (Matplotlib, Plotly, Seaborn, etc. )\n",
    "import seaborn as sns\n",
    "import matplotlib.pyplot as plt\n",
    "\n",
    "# EDA (pandas-profiling, etc. )\n",
    "...\n",
    "\n",
    "# Feature Processing (Scikit-learn processing, etc. )\n",
    "from sklearn.preprocessing import StandardScaler\n",
    "from sklearn.preprocessing import MinMaxScaler\n",
    "from sklearn.preprocessing import OneHotEncoder\n",
    "from sklearn.model_selection import train_test_split\n",
    "\n",
    "# Machine Learning (Scikit-learn Estimators, Catboost, LightGBM, etc. )\n",
    "...\n",
    "\n",
    "# Hyperparameters Fine-tuning (Scikit-learn hp search, cross-validation, etc. )\n",
    "...\n",
    "\n",
    "# Other packages"
   ]
  },
  {
   "cell_type": "markdown",
   "id": "d45d7f8a",
   "metadata": {},
   "source": [
    "# Data Loading"
   ]
  },
  {
   "cell_type": "markdown",
   "id": "4ee71530",
   "metadata": {},
   "source": [
    "Here is the section to load the datasets (train, eval, test) and the additional files"
   ]
  },
  {
   "cell_type": "code",
   "execution_count": 2,
   "id": "9702cad2",
   "metadata": {},
   "outputs": [],
   "source": [
    "sheet1=pd.read_csv(\"startup_funding2018.csv\")\n",
    "sheet2=pd.read_csv(\"startup_funding2019.csv\")\n",
    "sheet3=pd.read_csv(\"startup_funding2020.csv\")\n",
    "sheet4=pd.read_csv(\"startup_funding2021.csv\")"
   ]
  },
  {
   "cell_type": "markdown",
   "id": "92a6ceba",
   "metadata": {},
   "source": [
    "# Exploratory Data Analysis: EDA"
   ]
  },
  {
   "cell_type": "markdown",
   "id": "93b3fa46",
   "metadata": {},
   "source": [
    "Here is the section to inspect the datasets in depth, present it, make hypotheses and think the cleaning, processing and features creation."
   ]
  },
  {
   "cell_type": "markdown",
   "id": "bad47000",
   "metadata": {},
   "source": [
    "# Dataset overview"
   ]
  },
  {
   "cell_type": "markdown",
   "id": "f568ef14",
   "metadata": {},
   "source": [
    "Have a look at the loaded datsets using the following methods: .head(), .info()"
   ]
  },
  {
   "cell_type": "code",
   "execution_count": 3,
   "id": "489283ec",
   "metadata": {},
   "outputs": [
    {
     "name": "stdout",
     "output_type": "stream",
     "text": [
      "(526, 6) (89, 9) (1055, 10) (1209, 9)\n"
     ]
    }
   ],
   "source": [
    "# #checking the shape of each file\n",
    "print(sheet1.shape,sheet2.shape,sheet3.shape,sheet4.shape)"
   ]
  },
  {
   "cell_type": "code",
   "execution_count": 4,
   "id": "d93b46b9",
   "metadata": {},
   "outputs": [
    {
     "data": {
      "text/html": [
       "<div>\n",
       "<style scoped>\n",
       "    .dataframe tbody tr th:only-of-type {\n",
       "        vertical-align: middle;\n",
       "    }\n",
       "\n",
       "    .dataframe tbody tr th {\n",
       "        vertical-align: top;\n",
       "    }\n",
       "\n",
       "    .dataframe thead th {\n",
       "        text-align: right;\n",
       "    }\n",
       "</style>\n",
       "<table border=\"1\" class=\"dataframe\">\n",
       "  <thead>\n",
       "    <tr style=\"text-align: right;\">\n",
       "      <th></th>\n",
       "      <th>Company Name</th>\n",
       "      <th>Industry</th>\n",
       "      <th>Round/Series</th>\n",
       "      <th>Amount</th>\n",
       "      <th>Location</th>\n",
       "      <th>About Company</th>\n",
       "    </tr>\n",
       "  </thead>\n",
       "  <tbody>\n",
       "    <tr>\n",
       "      <th>0</th>\n",
       "      <td>TheCollegeFever</td>\n",
       "      <td>Brand Marketing, Event Promotion, Marketing, S...</td>\n",
       "      <td>Seed</td>\n",
       "      <td>250000</td>\n",
       "      <td>Bangalore, Karnataka, India</td>\n",
       "      <td>TheCollegeFever is a hub for fun, fiesta and f...</td>\n",
       "    </tr>\n",
       "    <tr>\n",
       "      <th>1</th>\n",
       "      <td>Happy Cow Dairy</td>\n",
       "      <td>Agriculture, Farming</td>\n",
       "      <td>Seed</td>\n",
       "      <td>₹40,000,000</td>\n",
       "      <td>Mumbai, Maharashtra, India</td>\n",
       "      <td>A startup which aggregates milk from dairy far...</td>\n",
       "    </tr>\n",
       "  </tbody>\n",
       "</table>\n",
       "</div>"
      ],
      "text/plain": [
       "      Company Name                                           Industry  \\\n",
       "0  TheCollegeFever  Brand Marketing, Event Promotion, Marketing, S...   \n",
       "1  Happy Cow Dairy                               Agriculture, Farming   \n",
       "\n",
       "  Round/Series       Amount                     Location  \\\n",
       "0         Seed       250000  Bangalore, Karnataka, India   \n",
       "1         Seed  ₹40,000,000   Mumbai, Maharashtra, India   \n",
       "\n",
       "                                       About Company  \n",
       "0  TheCollegeFever is a hub for fun, fiesta and f...  \n",
       "1  A startup which aggregates milk from dairy far...  "
      ]
     },
     "execution_count": 4,
     "metadata": {},
     "output_type": "execute_result"
    }
   ],
   "source": [
    "sheet1.head(2)"
   ]
  },
  {
   "cell_type": "code",
   "execution_count": 5,
   "id": "ca222b76",
   "metadata": {},
   "outputs": [
    {
     "data": {
      "text/html": [
       "<div>\n",
       "<style scoped>\n",
       "    .dataframe tbody tr th:only-of-type {\n",
       "        vertical-align: middle;\n",
       "    }\n",
       "\n",
       "    .dataframe tbody tr th {\n",
       "        vertical-align: top;\n",
       "    }\n",
       "\n",
       "    .dataframe thead th {\n",
       "        text-align: right;\n",
       "    }\n",
       "</style>\n",
       "<table border=\"1\" class=\"dataframe\">\n",
       "  <thead>\n",
       "    <tr style=\"text-align: right;\">\n",
       "      <th></th>\n",
       "      <th>Company/Brand</th>\n",
       "      <th>Founded</th>\n",
       "      <th>HeadQuarter</th>\n",
       "      <th>Sector</th>\n",
       "      <th>What it does</th>\n",
       "      <th>Founders</th>\n",
       "      <th>Investor</th>\n",
       "      <th>Amount($)</th>\n",
       "      <th>Stage</th>\n",
       "    </tr>\n",
       "  </thead>\n",
       "  <tbody>\n",
       "    <tr>\n",
       "      <th>0</th>\n",
       "      <td>Bombay Shaving</td>\n",
       "      <td>NaN</td>\n",
       "      <td>NaN</td>\n",
       "      <td>Ecommerce</td>\n",
       "      <td>Provides a range of male grooming products</td>\n",
       "      <td>Shantanu Deshpande</td>\n",
       "      <td>Sixth Sense Ventures</td>\n",
       "      <td>$6,300,000</td>\n",
       "      <td>NaN</td>\n",
       "    </tr>\n",
       "    <tr>\n",
       "      <th>1</th>\n",
       "      <td>Ruangguru</td>\n",
       "      <td>2014.0</td>\n",
       "      <td>Mumbai</td>\n",
       "      <td>Edtech</td>\n",
       "      <td>A learning platform that provides topic-based ...</td>\n",
       "      <td>Adamas Belva Syah Devara, Iman Usman.</td>\n",
       "      <td>General Atlantic</td>\n",
       "      <td>$150,000,000</td>\n",
       "      <td>Series C</td>\n",
       "    </tr>\n",
       "  </tbody>\n",
       "</table>\n",
       "</div>"
      ],
      "text/plain": [
       "    Company/Brand  Founded HeadQuarter     Sector  \\\n",
       "0  Bombay Shaving      NaN         NaN  Ecommerce   \n",
       "1       Ruangguru   2014.0      Mumbai     Edtech   \n",
       "\n",
       "                                        What it does  \\\n",
       "0         Provides a range of male grooming products   \n",
       "1  A learning platform that provides topic-based ...   \n",
       "\n",
       "                                Founders              Investor     Amount($)  \\\n",
       "0                     Shantanu Deshpande  Sixth Sense Ventures    $6,300,000   \n",
       "1  Adamas Belva Syah Devara, Iman Usman.      General Atlantic  $150,000,000   \n",
       "\n",
       "      Stage  \n",
       "0       NaN  \n",
       "1  Series C  "
      ]
     },
     "execution_count": 5,
     "metadata": {},
     "output_type": "execute_result"
    }
   ],
   "source": [
    "sheet2.head(2)"
   ]
  },
  {
   "cell_type": "code",
   "execution_count": 6,
   "id": "8c46a4ae",
   "metadata": {},
   "outputs": [
    {
     "data": {
      "text/html": [
       "<div>\n",
       "<style scoped>\n",
       "    .dataframe tbody tr th:only-of-type {\n",
       "        vertical-align: middle;\n",
       "    }\n",
       "\n",
       "    .dataframe tbody tr th {\n",
       "        vertical-align: top;\n",
       "    }\n",
       "\n",
       "    .dataframe thead th {\n",
       "        text-align: right;\n",
       "    }\n",
       "</style>\n",
       "<table border=\"1\" class=\"dataframe\">\n",
       "  <thead>\n",
       "    <tr style=\"text-align: right;\">\n",
       "      <th></th>\n",
       "      <th>Company/Brand</th>\n",
       "      <th>Founded</th>\n",
       "      <th>HeadQuarter</th>\n",
       "      <th>Sector</th>\n",
       "      <th>What it does</th>\n",
       "      <th>Founders</th>\n",
       "      <th>Investor</th>\n",
       "      <th>Amount($)</th>\n",
       "      <th>Stage</th>\n",
       "      <th>Unnamed: 9</th>\n",
       "    </tr>\n",
       "  </thead>\n",
       "  <tbody>\n",
       "    <tr>\n",
       "      <th>0</th>\n",
       "      <td>Aqgromalin</td>\n",
       "      <td>2019</td>\n",
       "      <td>Chennai</td>\n",
       "      <td>AgriTech</td>\n",
       "      <td>Cultivating Ideas for Profit</td>\n",
       "      <td>Prasanna Manogaran, Bharani C L</td>\n",
       "      <td>Angel investors</td>\n",
       "      <td>$200,000</td>\n",
       "      <td>NaN</td>\n",
       "      <td>NaN</td>\n",
       "    </tr>\n",
       "    <tr>\n",
       "      <th>1</th>\n",
       "      <td>Krayonnz</td>\n",
       "      <td>2019</td>\n",
       "      <td>Bangalore</td>\n",
       "      <td>EdTech</td>\n",
       "      <td>An academy-guardian-scholar centric ecosystem ...</td>\n",
       "      <td>Saurabh Dixit, Gurudutt Upadhyay</td>\n",
       "      <td>GSF Accelerator</td>\n",
       "      <td>$100,000</td>\n",
       "      <td>Pre-seed</td>\n",
       "      <td>NaN</td>\n",
       "    </tr>\n",
       "  </tbody>\n",
       "</table>\n",
       "</div>"
      ],
      "text/plain": [
       "  Company/Brand Founded HeadQuarter    Sector  \\\n",
       "0    Aqgromalin    2019     Chennai  AgriTech   \n",
       "1      Krayonnz    2019   Bangalore    EdTech   \n",
       "\n",
       "                                        What it does  \\\n",
       "0                       Cultivating Ideas for Profit   \n",
       "1  An academy-guardian-scholar centric ecosystem ...   \n",
       "\n",
       "                           Founders         Investor Amount($)     Stage  \\\n",
       "0   Prasanna Manogaran, Bharani C L  Angel investors  $200,000       NaN   \n",
       "1  Saurabh Dixit, Gurudutt Upadhyay  GSF Accelerator  $100,000  Pre-seed   \n",
       "\n",
       "  Unnamed: 9  \n",
       "0        NaN  \n",
       "1        NaN  "
      ]
     },
     "execution_count": 6,
     "metadata": {},
     "output_type": "execute_result"
    }
   ],
   "source": [
    "sheet3.head(2)"
   ]
  },
  {
   "cell_type": "code",
   "execution_count": 7,
   "id": "1f9ccdf5",
   "metadata": {},
   "outputs": [
    {
     "data": {
      "text/html": [
       "<div>\n",
       "<style scoped>\n",
       "    .dataframe tbody tr th:only-of-type {\n",
       "        vertical-align: middle;\n",
       "    }\n",
       "\n",
       "    .dataframe tbody tr th {\n",
       "        vertical-align: top;\n",
       "    }\n",
       "\n",
       "    .dataframe thead th {\n",
       "        text-align: right;\n",
       "    }\n",
       "</style>\n",
       "<table border=\"1\" class=\"dataframe\">\n",
       "  <thead>\n",
       "    <tr style=\"text-align: right;\">\n",
       "      <th></th>\n",
       "      <th>Company/Brand</th>\n",
       "      <th>Founded</th>\n",
       "      <th>HeadQuarter</th>\n",
       "      <th>Sector</th>\n",
       "      <th>What it does</th>\n",
       "      <th>Founders</th>\n",
       "      <th>Investor</th>\n",
       "      <th>Amount($)</th>\n",
       "      <th>Stage</th>\n",
       "    </tr>\n",
       "  </thead>\n",
       "  <tbody>\n",
       "    <tr>\n",
       "      <th>0</th>\n",
       "      <td>Unbox Robotics</td>\n",
       "      <td>2019.0</td>\n",
       "      <td>Bangalore</td>\n",
       "      <td>AI startup</td>\n",
       "      <td>Unbox Robotics builds on-demand AI-driven ware...</td>\n",
       "      <td>Pramod Ghadge, Shahid Memon</td>\n",
       "      <td>BEENEXT, Entrepreneur First</td>\n",
       "      <td>$1,200,000</td>\n",
       "      <td>Pre-series A</td>\n",
       "    </tr>\n",
       "    <tr>\n",
       "      <th>1</th>\n",
       "      <td>upGrad</td>\n",
       "      <td>2015.0</td>\n",
       "      <td>Mumbai</td>\n",
       "      <td>EdTech</td>\n",
       "      <td>UpGrad is an online higher education platform.</td>\n",
       "      <td>Mayank Kumar, Phalgun Kompalli, Ravijot Chugh,...</td>\n",
       "      <td>Unilazer Ventures, IIFL Asset Management</td>\n",
       "      <td>$120,000,000</td>\n",
       "      <td>NaN</td>\n",
       "    </tr>\n",
       "  </tbody>\n",
       "</table>\n",
       "</div>"
      ],
      "text/plain": [
       "    Company/Brand  Founded HeadQuarter      Sector  \\\n",
       "0  Unbox Robotics   2019.0   Bangalore  AI startup   \n",
       "1          upGrad   2015.0      Mumbai      EdTech   \n",
       "\n",
       "                                        What it does  \\\n",
       "0  Unbox Robotics builds on-demand AI-driven ware...   \n",
       "1     UpGrad is an online higher education platform.   \n",
       "\n",
       "                                            Founders  \\\n",
       "0                        Pramod Ghadge, Shahid Memon   \n",
       "1  Mayank Kumar, Phalgun Kompalli, Ravijot Chugh,...   \n",
       "\n",
       "                                   Investor     Amount($)         Stage  \n",
       "0               BEENEXT, Entrepreneur First    $1,200,000  Pre-series A  \n",
       "1  Unilazer Ventures, IIFL Asset Management  $120,000,000           NaN  "
      ]
     },
     "execution_count": 7,
     "metadata": {},
     "output_type": "execute_result"
    }
   ],
   "source": [
    "sheet4.head(2)"
   ]
  },
  {
   "cell_type": "markdown",
   "id": "16cc0ec5",
   "metadata": {},
   "source": [
    "# Issues with the data\n",
    "\n",
    " 1. column names of sheet1 are different from the others\n",
    " 2. sheet3 has an unnecessary column('Unnamed: 9')\n",
    " 3. sheet1 doesn't have columns Founders,Investor and Founded.\n",
    " 4. sheet1 amount column has rupees, dollars, commas and is a string\n",
    " 5. amount column of other sheets have dollars, commas and is a string\n",
    " 6. there are null values in the founded, headquater, sector and stage columns\n",
    " 7. headquater column for sheet1 has more information\n",
    " 8. for the sector column, the values are different in all\n",
    " 9. amount column has null values\n",
    " 10. datatypes are mostly object"
   ]
  },
  {
   "cell_type": "markdown",
   "id": "647760dc",
   "metadata": {},
   "source": [
    " # How we intend to handle each issue identified\n",
    " \n",
    "1. change column names of sheet1 to match the others\n",
    "2. drop unnecessary column in sheet3\n",
    "3. add missing columns to sheet1 with null values\n",
    "4. convert sheet1 amount column to dollars in float\n",
    "5. convert amount of other sheets to dollars in float\n",
    "6. we'll leave the null values since they are not numbers\n",
    "7. separate by commas and keep only the first word in headquater column for sheet1 \n",
    "8. make the values similar for example: 8. \"Ecommerce\" and \"E-Commerce Platforms\" should be \"E-commerce\"\n",
    "9. replace null values in amount column by calculating the mean or median\n",
    "10. change datatypes accordingly for each column\n",
    "\n",
    " "
   ]
  },
  {
   "cell_type": "code",
   "execution_count": 8,
   "id": "1fa9f0e1",
   "metadata": {},
   "outputs": [
    {
     "data": {
      "text/plain": [
       "array(['Ecommerce', 'Edtech', 'Interior design', 'AgriTech', 'Technology',\n",
       "       'SaaS', 'AI & Tech', 'E-commerce', 'E-commerce & AR', 'Fintech',\n",
       "       'HR tech', 'Food tech', 'Health', 'Healthcare', 'Safety tech',\n",
       "       'Pharmaceutical', 'Insurance technology', 'AI', 'Foodtech', 'Food',\n",
       "       'IoT', 'E-marketplace', 'Robotics & AI', 'Logistics', 'Travel',\n",
       "       'Manufacturing', 'Food & Nutrition', 'Social Media', nan,\n",
       "       'E-Sports', 'Cosmetics', 'B2B', 'Jewellery', 'B2B Supply Chain',\n",
       "       'Games', 'Food & tech', 'Accomodation', 'Automotive tech',\n",
       "       'Legal tech', 'Mutual Funds', 'Cybersecurity', 'Automobile',\n",
       "       'Sports', 'Healthtech', 'Yoga & wellness', 'Virtual Banking',\n",
       "       'Transportation', 'Transport & Rentals',\n",
       "       'Marketing & Customer loyalty', 'Infratech', 'Hospitality',\n",
       "       'Automobile & Technology', 'Banking'], dtype=object)"
      ]
     },
     "execution_count": 8,
     "metadata": {},
     "output_type": "execute_result"
    }
   ],
   "source": [
    "sheet2['Sector'].unique()"
   ]
  },
  {
   "cell_type": "markdown",
   "id": "816435c5",
   "metadata": {},
   "source": [
    "# Verify Data Quality\n",
    "\n",
    "The data is dirty and needs a lot of cleaning before we can use it. It also has a lot of null values. So the quality is low."
   ]
  },
  {
   "cell_type": "markdown",
   "id": "96c2b1a0",
   "metadata": {},
   "source": [
    "# Data Cleaning\n",
    "\n",
    "1. change column names of sheet1 to match the others"
   ]
  },
  {
   "cell_type": "code",
   "execution_count": 9,
   "id": "7f8076da",
   "metadata": {},
   "outputs": [],
   "source": [
    "#changing column names\n",
    "sheet1.rename(columns = {'Company Name':'Company/Brand', 'Industry':'Sector',\n",
    "                              'Round/Series':'Stage', 'Amount':'Amount($)',\n",
    "                        'Location':'HeadQuarter', 'About Company':'What it does'}, inplace = True)"
   ]
  },
  {
   "cell_type": "markdown",
   "id": "1f615af9",
   "metadata": {},
   "source": [
    "2. drop unnecessary column in sheet3"
   ]
  },
  {
   "cell_type": "code",
   "execution_count": 10,
   "id": "4a852a99",
   "metadata": {},
   "outputs": [],
   "source": [
    "sheet3.drop(columns=['Unnamed: 9'], axis=1, inplace = True)"
   ]
  },
  {
   "cell_type": "markdown",
   "id": "e4cd5c72",
   "metadata": {},
   "source": [
    "3. add missing columns to sheet1 with null values"
   ]
  },
  {
   "cell_type": "code",
   "execution_count": 11,
   "id": "6ae675fb",
   "metadata": {},
   "outputs": [],
   "source": [
    "sheet1[\"Founded\"] = np.nan\n",
    "sheet1[\"Founders\"] = np.nan\n",
    "sheet1[\"Investor\"] = np.nan\n"
   ]
  },
  {
   "cell_type": "markdown",
   "id": "468d10f2",
   "metadata": {},
   "source": [
    "4. convert sheet1 amount column to dollars in float"
   ]
  },
  {
   "cell_type": "code",
   "execution_count": 15,
   "id": "913474b0",
   "metadata": {},
   "outputs": [],
   "source": [
    "def amountCleaner(sheet):\n",
    "    sheet['Amount($)'] = sheet['Amount($)'].apply(lambda x: str(x).replace('—','NaN').replace(',','').replace('Undisclosed','NaN').replace('Upsparks','NaN').replace('Series C','NaN').replace('undisclosed','NaN').replace('ah! Ventures','NaN').replace('Pre-series A','NaN').replace('ITO Angel Network LetsVenture','NaN').replace('JITO Angel Network LetsVenture','NaN').replace('Seed','NaN').replace('JNaN','NaN').replace('800000000 to 850000000','825000000').replace('Undiclsosed','').replace('887000 23000000','11943500').replace('Undislosed','NaN').replace('$',''))\n",
    "amountCleaner(sheet1)\n",
    "\n",
    "#convert rupees to dollars if it has rupees sign\n",
    "sheet1['Amount($)'] = sheet1['Amount($)'].apply(\n",
    "    lambda x: float(str(x).replace('₹',''))*0.012 if '₹' in x\n",
    "else x) \n"
   ]
  },
  {
   "cell_type": "code",
   "execution_count": 16,
   "id": "498121fd",
   "metadata": {},
   "outputs": [],
   "source": [
    "amountCleaner(sheet2)\n",
    "amountCleaner(sheet3)\n",
    "amountCleaner(sheet4)"
   ]
  },
  {
   "cell_type": "markdown",
   "id": "031df272",
   "metadata": {},
   "source": [
    "5. convert amount of other sheets to dollars in float"
   ]
  },
  {
   "cell_type": "code",
   "execution_count": 17,
   "id": "498b1dc4",
   "metadata": {},
   "outputs": [],
   "source": [
    "sheet1['Amount($)'] = sheet1['Amount($)'].replace('NaN',np.nan).replace('nan',np.nan)\n",
    "sheet2['Amount($)'] = sheet2['Amount($)'].replace('NaN',np.nan).replace('nan',np.nan)\n",
    "sheet3['Amount($)'] = sheet3['Amount($)'].replace('NaN',np.nan).replace('nan',np.nan)\n",
    "sheet4['Amount($)'] = sheet4['Amount($)'].replace('NaN',np.nan).replace('nan',np.nan)\n",
    "sheet1['Amount($)'] = pd.to_numeric(sheet1['Amount($)'], downcast = 'float')\n",
    "sheet2['Amount($)'] = pd.to_numeric(sheet2['Amount($)'], downcast = 'float')\n",
    "sheet3['Amount($)'] = pd.to_numeric(sheet3['Amount($)'], downcast = 'float')\n",
    "sheet4['Amount($)'] = pd.to_numeric(sheet4['Amount($)'], downcast = 'float')\n",
    "\n",
    "\n"
   ]
  },
  {
   "cell_type": "markdown",
   "id": "49d90feb",
   "metadata": {},
   "source": [
    "7. separate by commas and keep only the first word in headquater column for sheet1"
   ]
  },
  {
   "cell_type": "code",
   "execution_count": 18,
   "id": "0b6f2986",
   "metadata": {},
   "outputs": [],
   "source": [
    "sheet1[['HeadQuarter','s','f']] = sheet1['HeadQuarter'].str.split(', ',expand=True)\n",
    "sheet1.drop(columns=['s','f'], axis=1, inplace = True)"
   ]
  },
  {
   "cell_type": "code",
   "execution_count": 19,
   "id": "a339204f",
   "metadata": {},
   "outputs": [
    {
     "data": {
      "text/html": [
       "<div>\n",
       "<style scoped>\n",
       "    .dataframe tbody tr th:only-of-type {\n",
       "        vertical-align: middle;\n",
       "    }\n",
       "\n",
       "    .dataframe tbody tr th {\n",
       "        vertical-align: top;\n",
       "    }\n",
       "\n",
       "    .dataframe thead th {\n",
       "        text-align: right;\n",
       "    }\n",
       "</style>\n",
       "<table border=\"1\" class=\"dataframe\">\n",
       "  <thead>\n",
       "    <tr style=\"text-align: right;\">\n",
       "      <th></th>\n",
       "      <th>Company/Brand</th>\n",
       "      <th>Sector</th>\n",
       "      <th>Stage</th>\n",
       "      <th>Amount($)</th>\n",
       "      <th>HeadQuarter</th>\n",
       "      <th>What it does</th>\n",
       "      <th>Founded</th>\n",
       "      <th>Founders</th>\n",
       "      <th>Investor</th>\n",
       "    </tr>\n",
       "  </thead>\n",
       "  <tbody>\n",
       "    <tr>\n",
       "      <th>0</th>\n",
       "      <td>TheCollegeFever</td>\n",
       "      <td>Brand Marketing, Event Promotion, Marketing, S...</td>\n",
       "      <td>Seed</td>\n",
       "      <td>250000.0</td>\n",
       "      <td>Bangalore</td>\n",
       "      <td>TheCollegeFever is a hub for fun, fiesta and f...</td>\n",
       "      <td>NaN</td>\n",
       "      <td>NaN</td>\n",
       "      <td>NaN</td>\n",
       "    </tr>\n",
       "  </tbody>\n",
       "</table>\n",
       "</div>"
      ],
      "text/plain": [
       "     Company/Brand                                             Sector Stage  \\\n",
       "0  TheCollegeFever  Brand Marketing, Event Promotion, Marketing, S...  Seed   \n",
       "\n",
       "   Amount($) HeadQuarter                                       What it does  \\\n",
       "0   250000.0   Bangalore  TheCollegeFever is a hub for fun, fiesta and f...   \n",
       "\n",
       "   Founded  Founders  Investor  \n",
       "0      NaN       NaN       NaN  "
      ]
     },
     "execution_count": 19,
     "metadata": {},
     "output_type": "execute_result"
    }
   ],
   "source": [
    "sheet1.head(1)"
   ]
  },
  {
   "cell_type": "markdown",
   "id": "604bd1a3",
   "metadata": {},
   "source": [
    "\n",
    "\n",
    "8. make the values similar for example: 8. \"Ecommerce\" and \"E-Commerce Platforms\" should be \"E-commerce\""
   ]
  },
  {
   "cell_type": "code",
   "execution_count": 20,
   "id": "b32b498c",
   "metadata": {},
   "outputs": [
    {
     "data": {
      "text/plain": [
       "array(['E-commerce', 'Edtech', 'Interior design', 'AgriTech',\n",
       "       'Technology', 'SaaS', 'AI & Tech', 'E-commerce & AR', 'Fintech',\n",
       "       'HR tech', 'Food tech', 'Health', 'Healthcare', 'Safety tech',\n",
       "       'Pharmaceutical', 'Insurance technology', 'AI', 'Foodtech', 'Food',\n",
       "       'IoT', 'E-marketplace', 'Robotics & AI', 'Logistics', 'Travel',\n",
       "       'Manufacturing', 'Food & Nutrition', 'Social Media', nan,\n",
       "       'E-Sports', 'Cosmetics', 'B2B', 'Jewellery', 'B2B Supply Chain',\n",
       "       'Games', 'Food & tech', 'Accomodation', 'Automotive tech',\n",
       "       'Legal tech', 'Mutual Funds', 'Cybersecurity', 'Automobile',\n",
       "       'Sports', 'Healthtech', 'Yoga & wellness', 'Virtual Banking',\n",
       "       'Transportation', 'Transport & Rentals',\n",
       "       'Marketing & Customer loyalty', 'Infratech', 'Hospitality',\n",
       "       'Automobile & Technology', 'Banking'], dtype=object)"
      ]
     },
     "execution_count": 20,
     "metadata": {},
     "output_type": "execute_result"
    }
   ],
   "source": [
    "sheet2['Sector'] = sheet2['Sector'].replace('Ecommerce','E-commerce')\n",
    "sheet2['Sector'].unique()"
   ]
  },
  {
   "cell_type": "markdown",
   "id": "68ccd48d",
   "metadata": {},
   "source": [
    "10. change datatypes accordingly for each column\n"
   ]
  },
  {
   "cell_type": "code",
   "execution_count": 21,
   "id": "82bf06a9",
   "metadata": {},
   "outputs": [],
   "source": [
    "# Convert the various sheet to it respective data types\n",
    "# Sheet1\n",
    "sheet1['Founded'] = sheet1['Founded'].astype('Int64')\n",
    "sheet1['Founders'] = sheet1['Founders'].astype('object')\n",
    "sheet1['Investor'] = sheet1['Investor'].astype('object')\n",
    "\n",
    "# Sheet 2\n",
    "sheet2['Founded'] = sheet2['Founded'].astype('Int64')\n",
    "\n",
    "# Sheet 3\n",
    "sheet3['Founded'] = sheet3['Founded'].replace('-',np.nan)\n",
    "sheet3['Founded'] = sheet3['Founded'].astype('Int64')\n",
    "\n",
    "# Sheet 4\n",
    "sheet4['Founded'] = sheet4['Founded'].astype('Int64')\n"
   ]
  },
  {
   "cell_type": "markdown",
   "id": "4dcc3145",
   "metadata": {},
   "source": [
    "# Merge the datasets"
   ]
  },
  {
   "cell_type": "code",
   "execution_count": 22,
   "id": "4d234095",
   "metadata": {},
   "outputs": [
    {
     "data": {
      "text/html": [
       "<div>\n",
       "<style scoped>\n",
       "    .dataframe tbody tr th:only-of-type {\n",
       "        vertical-align: middle;\n",
       "    }\n",
       "\n",
       "    .dataframe tbody tr th {\n",
       "        vertical-align: top;\n",
       "    }\n",
       "\n",
       "    .dataframe thead th {\n",
       "        text-align: right;\n",
       "    }\n",
       "</style>\n",
       "<table border=\"1\" class=\"dataframe\">\n",
       "  <thead>\n",
       "    <tr style=\"text-align: right;\">\n",
       "      <th></th>\n",
       "      <th>Company/Brand</th>\n",
       "      <th>Sector</th>\n",
       "      <th>Stage</th>\n",
       "      <th>Amount($)</th>\n",
       "      <th>HeadQuarter</th>\n",
       "      <th>What it does</th>\n",
       "      <th>Founded</th>\n",
       "      <th>Founders</th>\n",
       "      <th>Investor</th>\n",
       "    </tr>\n",
       "  </thead>\n",
       "  <tbody>\n",
       "    <tr>\n",
       "      <th>0</th>\n",
       "      <td>TheCollegeFever</td>\n",
       "      <td>Brand Marketing, Event Promotion, Marketing, S...</td>\n",
       "      <td>Seed</td>\n",
       "      <td>250000.0</td>\n",
       "      <td>Bangalore</td>\n",
       "      <td>TheCollegeFever is a hub for fun, fiesta and f...</td>\n",
       "      <td>&lt;NA&gt;</td>\n",
       "      <td>NaN</td>\n",
       "      <td>NaN</td>\n",
       "    </tr>\n",
       "    <tr>\n",
       "      <th>1</th>\n",
       "      <td>Happy Cow Dairy</td>\n",
       "      <td>Agriculture, Farming</td>\n",
       "      <td>Seed</td>\n",
       "      <td>480000.0</td>\n",
       "      <td>Mumbai</td>\n",
       "      <td>A startup which aggregates milk from dairy far...</td>\n",
       "      <td>&lt;NA&gt;</td>\n",
       "      <td>NaN</td>\n",
       "      <td>NaN</td>\n",
       "    </tr>\n",
       "    <tr>\n",
       "      <th>2</th>\n",
       "      <td>MyLoanCare</td>\n",
       "      <td>Credit, Financial Services, Lending, Marketplace</td>\n",
       "      <td>Series A</td>\n",
       "      <td>780000.0</td>\n",
       "      <td>Gurgaon</td>\n",
       "      <td>Leading Online Loans Marketplace in India</td>\n",
       "      <td>&lt;NA&gt;</td>\n",
       "      <td>NaN</td>\n",
       "      <td>NaN</td>\n",
       "    </tr>\n",
       "    <tr>\n",
       "      <th>3</th>\n",
       "      <td>PayMe India</td>\n",
       "      <td>Financial Services, FinTech</td>\n",
       "      <td>Angel</td>\n",
       "      <td>2000000.0</td>\n",
       "      <td>Noida</td>\n",
       "      <td>PayMe India is an innovative FinTech organizat...</td>\n",
       "      <td>&lt;NA&gt;</td>\n",
       "      <td>NaN</td>\n",
       "      <td>NaN</td>\n",
       "    </tr>\n",
       "    <tr>\n",
       "      <th>4</th>\n",
       "      <td>Eunimart</td>\n",
       "      <td>E-Commerce Platforms, Retail, SaaS</td>\n",
       "      <td>Seed</td>\n",
       "      <td>NaN</td>\n",
       "      <td>Hyderabad</td>\n",
       "      <td>Eunimart is a one stop solution for merchants ...</td>\n",
       "      <td>&lt;NA&gt;</td>\n",
       "      <td>NaN</td>\n",
       "      <td>NaN</td>\n",
       "    </tr>\n",
       "    <tr>\n",
       "      <th>...</th>\n",
       "      <td>...</td>\n",
       "      <td>...</td>\n",
       "      <td>...</td>\n",
       "      <td>...</td>\n",
       "      <td>...</td>\n",
       "      <td>...</td>\n",
       "      <td>...</td>\n",
       "      <td>...</td>\n",
       "      <td>...</td>\n",
       "    </tr>\n",
       "    <tr>\n",
       "      <th>1204</th>\n",
       "      <td>Gigforce</td>\n",
       "      <td>Staffing &amp; Recruiting</td>\n",
       "      <td>Pre-series A</td>\n",
       "      <td>3000000.0</td>\n",
       "      <td>Gurugram</td>\n",
       "      <td>A gig/on-demand staffing company.</td>\n",
       "      <td>2019</td>\n",
       "      <td>Chirag Mittal, Anirudh Syal</td>\n",
       "      <td>Endiya Partners</td>\n",
       "    </tr>\n",
       "    <tr>\n",
       "      <th>1205</th>\n",
       "      <td>Vahdam</td>\n",
       "      <td>Food &amp; Beverages</td>\n",
       "      <td>Series D</td>\n",
       "      <td>20000000.0</td>\n",
       "      <td>New Delhi</td>\n",
       "      <td>VAHDAM is among the world’s first vertically i...</td>\n",
       "      <td>2015</td>\n",
       "      <td>Bala Sarda</td>\n",
       "      <td>IIFL AMC</td>\n",
       "    </tr>\n",
       "    <tr>\n",
       "      <th>1206</th>\n",
       "      <td>Leap Finance</td>\n",
       "      <td>Financial Services</td>\n",
       "      <td>Series C</td>\n",
       "      <td>55000000.0</td>\n",
       "      <td>Bangalore</td>\n",
       "      <td>International education loans for high potenti...</td>\n",
       "      <td>2019</td>\n",
       "      <td>Arnav Kumar, Vaibhav Singh</td>\n",
       "      <td>Owl Ventures</td>\n",
       "    </tr>\n",
       "    <tr>\n",
       "      <th>1207</th>\n",
       "      <td>CollegeDekho</td>\n",
       "      <td>EdTech</td>\n",
       "      <td>Series B</td>\n",
       "      <td>26000000.0</td>\n",
       "      <td>Gurugram</td>\n",
       "      <td>Collegedekho.com is Student’s Partner, Friend ...</td>\n",
       "      <td>2015</td>\n",
       "      <td>Ruchir Arora</td>\n",
       "      <td>Winter Capital, ETS, Man Capital</td>\n",
       "    </tr>\n",
       "    <tr>\n",
       "      <th>1208</th>\n",
       "      <td>WeRize</td>\n",
       "      <td>Financial Services</td>\n",
       "      <td>Series A</td>\n",
       "      <td>8000000.0</td>\n",
       "      <td>Bangalore</td>\n",
       "      <td>India’s first socially distributed full stack ...</td>\n",
       "      <td>2019</td>\n",
       "      <td>Vishal Chopra, Himanshu Gupta</td>\n",
       "      <td>3one4 Capital, Kalaari Capital</td>\n",
       "    </tr>\n",
       "  </tbody>\n",
       "</table>\n",
       "<p>2879 rows × 9 columns</p>\n",
       "</div>"
      ],
      "text/plain": [
       "        Company/Brand                                             Sector  \\\n",
       "0     TheCollegeFever  Brand Marketing, Event Promotion, Marketing, S...   \n",
       "1     Happy Cow Dairy                               Agriculture, Farming   \n",
       "2          MyLoanCare   Credit, Financial Services, Lending, Marketplace   \n",
       "3         PayMe India                        Financial Services, FinTech   \n",
       "4            Eunimart                 E-Commerce Platforms, Retail, SaaS   \n",
       "...               ...                                                ...   \n",
       "1204         Gigforce                              Staffing & Recruiting   \n",
       "1205           Vahdam                                   Food & Beverages   \n",
       "1206     Leap Finance                                 Financial Services   \n",
       "1207     CollegeDekho                                             EdTech   \n",
       "1208           WeRize                                 Financial Services   \n",
       "\n",
       "             Stage   Amount($) HeadQuarter  \\\n",
       "0             Seed    250000.0   Bangalore   \n",
       "1             Seed    480000.0      Mumbai   \n",
       "2         Series A    780000.0     Gurgaon   \n",
       "3            Angel   2000000.0       Noida   \n",
       "4             Seed         NaN   Hyderabad   \n",
       "...            ...         ...         ...   \n",
       "1204  Pre-series A   3000000.0    Gurugram   \n",
       "1205      Series D  20000000.0   New Delhi   \n",
       "1206      Series C  55000000.0   Bangalore   \n",
       "1207      Series B  26000000.0    Gurugram   \n",
       "1208      Series A   8000000.0   Bangalore   \n",
       "\n",
       "                                           What it does  Founded  \\\n",
       "0     TheCollegeFever is a hub for fun, fiesta and f...     <NA>   \n",
       "1     A startup which aggregates milk from dairy far...     <NA>   \n",
       "2             Leading Online Loans Marketplace in India     <NA>   \n",
       "3     PayMe India is an innovative FinTech organizat...     <NA>   \n",
       "4     Eunimart is a one stop solution for merchants ...     <NA>   \n",
       "...                                                 ...      ...   \n",
       "1204                  A gig/on-demand staffing company.     2019   \n",
       "1205  VAHDAM is among the world’s first vertically i...     2015   \n",
       "1206  International education loans for high potenti...     2019   \n",
       "1207  Collegedekho.com is Student’s Partner, Friend ...     2015   \n",
       "1208  India’s first socially distributed full stack ...     2019   \n",
       "\n",
       "                           Founders                          Investor  \n",
       "0                               NaN                               NaN  \n",
       "1                               NaN                               NaN  \n",
       "2                               NaN                               NaN  \n",
       "3                               NaN                               NaN  \n",
       "4                               NaN                               NaN  \n",
       "...                             ...                               ...  \n",
       "1204    Chirag Mittal, Anirudh Syal                   Endiya Partners  \n",
       "1205                     Bala Sarda                          IIFL AMC  \n",
       "1206     Arnav Kumar, Vaibhav Singh                      Owl Ventures  \n",
       "1207                   Ruchir Arora  Winter Capital, ETS, Man Capital  \n",
       "1208  Vishal Chopra, Himanshu Gupta    3one4 Capital, Kalaari Capital  \n",
       "\n",
       "[2879 rows x 9 columns]"
      ]
     },
     "execution_count": 22,
     "metadata": {},
     "output_type": "execute_result"
    }
   ],
   "source": [
    "Data = pd.concat([sheet1,sheet2,sheet3,sheet4])\n",
    "Data"
   ]
  },
  {
   "cell_type": "code",
   "execution_count": 23,
   "id": "e4f7a81f",
   "metadata": {},
   "outputs": [
    {
     "name": "stdout",
     "output_type": "stream",
     "text": [
      "<class 'pandas.core.frame.DataFrame'>\n",
      "Int64Index: 2879 entries, 0 to 1208\n",
      "Data columns (total 9 columns):\n",
      " #   Column         Non-Null Count  Dtype  \n",
      "---  ------         --------------  -----  \n",
      " 0   Company/Brand  2879 non-null   object \n",
      " 1   Sector         2861 non-null   object \n",
      " 2   Stage          1941 non-null   object \n",
      " 3   Amount($)      2318 non-null   float32\n",
      " 4   HeadQuarter    2765 non-null   object \n",
      " 5   What it does   2879 non-null   object \n",
      " 6   Founded        2110 non-null   Int64  \n",
      " 7   Founders       2334 non-null   object \n",
      " 8   Investor       2253 non-null   object \n",
      "dtypes: Int64(1), float32(1), object(7)\n",
      "memory usage: 216.5+ KB\n"
     ]
    }
   ],
   "source": [
    "Data.info()"
   ]
  },
  {
   "cell_type": "code",
   "execution_count": 24,
   "id": "42b6b346",
   "metadata": {},
   "outputs": [
    {
     "data": {
      "text/plain": [
       "23"
      ]
     },
     "execution_count": 24,
     "metadata": {},
     "output_type": "execute_result"
    }
   ],
   "source": [
    "# Find the total duplicate rows in the dataset\n",
    "(Data.duplicated()).sum()"
   ]
  },
  {
   "cell_type": "code",
   "execution_count": 25,
   "id": "839109e2",
   "metadata": {},
   "outputs": [
    {
     "data": {
      "text/html": [
       "<div>\n",
       "<style scoped>\n",
       "    .dataframe tbody tr th:only-of-type {\n",
       "        vertical-align: middle;\n",
       "    }\n",
       "\n",
       "    .dataframe tbody tr th {\n",
       "        vertical-align: top;\n",
       "    }\n",
       "\n",
       "    .dataframe thead th {\n",
       "        text-align: right;\n",
       "    }\n",
       "</style>\n",
       "<table border=\"1\" class=\"dataframe\">\n",
       "  <thead>\n",
       "    <tr style=\"text-align: right;\">\n",
       "      <th></th>\n",
       "      <th>Company/Brand</th>\n",
       "      <th>Sector</th>\n",
       "      <th>Stage</th>\n",
       "      <th>Amount($)</th>\n",
       "      <th>HeadQuarter</th>\n",
       "      <th>What it does</th>\n",
       "      <th>Founded</th>\n",
       "      <th>Founders</th>\n",
       "      <th>Investor</th>\n",
       "    </tr>\n",
       "  </thead>\n",
       "  <tbody>\n",
       "    <tr>\n",
       "      <th>348</th>\n",
       "      <td>TheCollegeFever</td>\n",
       "      <td>Brand Marketing, Event Promotion, Marketing, S...</td>\n",
       "      <td>Seed</td>\n",
       "      <td>250000.0</td>\n",
       "      <td>Bangalore</td>\n",
       "      <td>TheCollegeFever is a hub for fun, fiesta and f...</td>\n",
       "      <td>&lt;NA&gt;</td>\n",
       "      <td>NaN</td>\n",
       "      <td>NaN</td>\n",
       "    </tr>\n",
       "    <tr>\n",
       "      <th>145</th>\n",
       "      <td>Krimanshi</td>\n",
       "      <td>Biotechnology company</td>\n",
       "      <td>Seed</td>\n",
       "      <td>600000.0</td>\n",
       "      <td>Jodhpur</td>\n",
       "      <td>Krimanshi aims to increase rural income by imp...</td>\n",
       "      <td>2015</td>\n",
       "      <td>Nikhil Bohra</td>\n",
       "      <td>Rajasthan Venture Capital Fund, AIM Smart City</td>\n",
       "    </tr>\n",
       "    <tr>\n",
       "      <th>205</th>\n",
       "      <td>Nykaa</td>\n",
       "      <td>Cosmetics</td>\n",
       "      <td>NaN</td>\n",
       "      <td>NaN</td>\n",
       "      <td>Mumbai</td>\n",
       "      <td>Nykaa is an online marketplace for different b...</td>\n",
       "      <td>2012</td>\n",
       "      <td>Falguni Nayar</td>\n",
       "      <td>Alia Bhatt, Katrina Kaif</td>\n",
       "    </tr>\n",
       "    <tr>\n",
       "      <th>362</th>\n",
       "      <td>Byju’s</td>\n",
       "      <td>EdTech</td>\n",
       "      <td>NaN</td>\n",
       "      <td>500000000.0</td>\n",
       "      <td>Bangalore</td>\n",
       "      <td>An Indian educational technology and online tu...</td>\n",
       "      <td>2011</td>\n",
       "      <td>Byju Raveendran</td>\n",
       "      <td>Owl Ventures, Tiger Global Management</td>\n",
       "    </tr>\n",
       "    <tr>\n",
       "      <th>107</th>\n",
       "      <td>Curefoods</td>\n",
       "      <td>Food &amp; Beverages</td>\n",
       "      <td>NaN</td>\n",
       "      <td>13000000.0</td>\n",
       "      <td>Bangalore</td>\n",
       "      <td>Healthy &amp; nutritious foods and cold pressed ju...</td>\n",
       "      <td>2020</td>\n",
       "      <td>Ankit Nagori</td>\n",
       "      <td>Iron Pillar, Nordstar, Binny Bansal</td>\n",
       "    </tr>\n",
       "    <tr>\n",
       "      <th>109</th>\n",
       "      <td>Bewakoof</td>\n",
       "      <td>Apparel &amp; Fashion</td>\n",
       "      <td>NaN</td>\n",
       "      <td>8000000.0</td>\n",
       "      <td>Mumbai</td>\n",
       "      <td>Bewakoof is a lifestyle fashion brand that mak...</td>\n",
       "      <td>2012</td>\n",
       "      <td>Prabhkiran Singh</td>\n",
       "      <td>InvestCorp</td>\n",
       "    </tr>\n",
       "    <tr>\n",
       "      <th>111</th>\n",
       "      <td>FanPlay</td>\n",
       "      <td>Computer Games</td>\n",
       "      <td>$1200000</td>\n",
       "      <td>NaN</td>\n",
       "      <td>Computer Games</td>\n",
       "      <td>A real money game app specializing in trivia g...</td>\n",
       "      <td>2020</td>\n",
       "      <td>YC W21</td>\n",
       "      <td>Pritesh Kumar, Bharat Gupta</td>\n",
       "    </tr>\n",
       "    <tr>\n",
       "      <th>117</th>\n",
       "      <td>Advantage Club</td>\n",
       "      <td>HRTech</td>\n",
       "      <td>NaN</td>\n",
       "      <td>1700000.0</td>\n",
       "      <td>Mumbai</td>\n",
       "      <td>Advantage Club is India's largest employee eng...</td>\n",
       "      <td>2014</td>\n",
       "      <td>Sourabh Deorah, Smiti Bhatt Deorah</td>\n",
       "      <td>Y Combinator, Broom Ventures, Kunal Shah</td>\n",
       "    </tr>\n",
       "    <tr>\n",
       "      <th>119</th>\n",
       "      <td>Ruptok</td>\n",
       "      <td>FinTech</td>\n",
       "      <td>NaN</td>\n",
       "      <td>1000000.0</td>\n",
       "      <td>New Delhi</td>\n",
       "      <td>Ruptok fintech Pvt. Ltd. is an online gold loa...</td>\n",
       "      <td>2020</td>\n",
       "      <td>Ankur Gupta</td>\n",
       "      <td>Eclear Leasing</td>\n",
       "    </tr>\n",
       "    <tr>\n",
       "      <th>243</th>\n",
       "      <td>Trinkerr</td>\n",
       "      <td>Capital Markets</td>\n",
       "      <td>Series A</td>\n",
       "      <td>6600000.0</td>\n",
       "      <td>Bangalore</td>\n",
       "      <td>Trinkerr is India's first social trading platf...</td>\n",
       "      <td>2021</td>\n",
       "      <td>Manvendra Singh, Gaurav Agarwal</td>\n",
       "      <td>Accel India</td>\n",
       "    </tr>\n",
       "    <tr>\n",
       "      <th>244</th>\n",
       "      <td>Zorro</td>\n",
       "      <td>Social network</td>\n",
       "      <td>Seed</td>\n",
       "      <td>32000000.0</td>\n",
       "      <td>Gurugram</td>\n",
       "      <td>Pseudonymous social network platform</td>\n",
       "      <td>2021</td>\n",
       "      <td>Jasveer Singh, Abhishek Asthana, Deepak Kumar</td>\n",
       "      <td>Vijay Shekhar Sharma, Ritesh Agarwal, Ankiti Bose</td>\n",
       "    </tr>\n",
       "    <tr>\n",
       "      <th>245</th>\n",
       "      <td>Ultraviolette</td>\n",
       "      <td>Automotive</td>\n",
       "      <td>Series C</td>\n",
       "      <td>150000000.0</td>\n",
       "      <td>Bangalore</td>\n",
       "      <td>Create and Inspire the future of sustainable u...</td>\n",
       "      <td>2021</td>\n",
       "      <td>Subramaniam Narayan, Niraj Rajmohan</td>\n",
       "      <td>TVS Motor, Zoho</td>\n",
       "    </tr>\n",
       "    <tr>\n",
       "      <th>246</th>\n",
       "      <td>NephroPlus</td>\n",
       "      <td>Hospital &amp; Health Care</td>\n",
       "      <td>Series E</td>\n",
       "      <td>24000000.0</td>\n",
       "      <td>Hyderabad</td>\n",
       "      <td>A vision and passion of redefining healthcare ...</td>\n",
       "      <td>2009</td>\n",
       "      <td>Vikram Vuppala</td>\n",
       "      <td>IIFL Asset Management</td>\n",
       "    </tr>\n",
       "    <tr>\n",
       "      <th>247</th>\n",
       "      <td>Unremot</td>\n",
       "      <td>Information Technology &amp; Services</td>\n",
       "      <td>Seed</td>\n",
       "      <td>700000.0</td>\n",
       "      <td>Bangalore</td>\n",
       "      <td>Unremot is a personal office for consultants!</td>\n",
       "      <td>2020</td>\n",
       "      <td>Shiju Radhakrishnan</td>\n",
       "      <td>Inflection Point Ventures</td>\n",
       "    </tr>\n",
       "    <tr>\n",
       "      <th>248</th>\n",
       "      <td>FanAnywhere</td>\n",
       "      <td>Financial Services</td>\n",
       "      <td>Seed</td>\n",
       "      <td>NaN</td>\n",
       "      <td>Bangalore</td>\n",
       "      <td>Celebrity NFT platform</td>\n",
       "      <td>2021</td>\n",
       "      <td>Varun Chaudhary, Amit Kumar</td>\n",
       "      <td>Oasis Capital, Scorpio VC, DeltaHub Capital</td>\n",
       "    </tr>\n",
       "    <tr>\n",
       "      <th>249</th>\n",
       "      <td>PingoLearn</td>\n",
       "      <td>E-learning</td>\n",
       "      <td>NaN</td>\n",
       "      <td>200000.0</td>\n",
       "      <td>Pune</td>\n",
       "      <td>PingoLearn offers language learning courses wi...</td>\n",
       "      <td>2021</td>\n",
       "      <td>Mohit Menghani, Shubham Maheshwari</td>\n",
       "      <td>Titan Capital, Haresh Chawla, AngelList Syndicate</td>\n",
       "    </tr>\n",
       "    <tr>\n",
       "      <th>250</th>\n",
       "      <td>Spry</td>\n",
       "      <td>Music</td>\n",
       "      <td>Seed</td>\n",
       "      <td>1500000.0</td>\n",
       "      <td>Mumbai</td>\n",
       "      <td>THE BEST ROYALTY-FREE MUSIC TO CREATE TRENDING...</td>\n",
       "      <td>2021</td>\n",
       "      <td>Gaurav Dagaonkar, Meghna Mittal</td>\n",
       "      <td>9Unicorns, Ashneer Grover</td>\n",
       "    </tr>\n",
       "    <tr>\n",
       "      <th>251</th>\n",
       "      <td>Enmovil</td>\n",
       "      <td>Information Technology &amp; Services</td>\n",
       "      <td>Pre-series A</td>\n",
       "      <td>1300000.0</td>\n",
       "      <td>Hyderabad</td>\n",
       "      <td>Enmovil delivers a Business Intelligence Platf...</td>\n",
       "      <td>2015</td>\n",
       "      <td>Ravi Bulusu, Nanda Kishore, Venkat Moganty</td>\n",
       "      <td>Anicut Angel Fund</td>\n",
       "    </tr>\n",
       "    <tr>\n",
       "      <th>252</th>\n",
       "      <td>ASQI Advisors</td>\n",
       "      <td>Financial Services</td>\n",
       "      <td>Pre-series A</td>\n",
       "      <td>1000000.0</td>\n",
       "      <td>Mumbai</td>\n",
       "      <td>Bringing Blockchain technology intro mainstrea...</td>\n",
       "      <td>2019</td>\n",
       "      <td>Swapnil Pawar</td>\n",
       "      <td>Founders Room Capital</td>\n",
       "    </tr>\n",
       "    <tr>\n",
       "      <th>253</th>\n",
       "      <td>Insurance Samadhan</td>\n",
       "      <td>Insurance</td>\n",
       "      <td>Pre-series A</td>\n",
       "      <td>725000.0</td>\n",
       "      <td>New Delhi</td>\n",
       "      <td>The insurance industry will help in representa...</td>\n",
       "      <td>2018</td>\n",
       "      <td>Deepak Bhuvenshwari Uniyal</td>\n",
       "      <td>9Unicorns, ZNL</td>\n",
       "    </tr>\n",
       "    <tr>\n",
       "      <th>254</th>\n",
       "      <td>Evenflow Brands</td>\n",
       "      <td>Consumer Goods</td>\n",
       "      <td>NaN</td>\n",
       "      <td>500000.0</td>\n",
       "      <td>Mumbai</td>\n",
       "      <td>Identify and partner with the upcoming eCommer...</td>\n",
       "      <td>2020</td>\n",
       "      <td>Utsav Agarwal, Pulkit Chhabra</td>\n",
       "      <td>NaN</td>\n",
       "    </tr>\n",
       "    <tr>\n",
       "      <th>255</th>\n",
       "      <td>MasterChow</td>\n",
       "      <td>Hauz Khas</td>\n",
       "      <td>Seed</td>\n",
       "      <td>461000.0</td>\n",
       "      <td>Food &amp; Beverages</td>\n",
       "      <td>A ready-to-cook Asian cuisine brand</td>\n",
       "      <td>2020</td>\n",
       "      <td>Vidur Kataria, Sidhanth Madan</td>\n",
       "      <td>WEH Ventures</td>\n",
       "    </tr>\n",
       "    <tr>\n",
       "      <th>256</th>\n",
       "      <td>Fullife Healthcare</td>\n",
       "      <td>Primary Business is Development and Manufactur...</td>\n",
       "      <td>NaN</td>\n",
       "      <td>NaN</td>\n",
       "      <td>Pharmaceuticals\\t#REF!</td>\n",
       "      <td>Varun Khanna</td>\n",
       "      <td>2009</td>\n",
       "      <td>Morgan Stanley Private Equity Asia</td>\n",
       "      <td>$22000000</td>\n",
       "    </tr>\n",
       "  </tbody>\n",
       "</table>\n",
       "</div>"
      ],
      "text/plain": [
       "          Company/Brand                                             Sector  \\\n",
       "348     TheCollegeFever  Brand Marketing, Event Promotion, Marketing, S...   \n",
       "145           Krimanshi                              Biotechnology company   \n",
       "205               Nykaa                                          Cosmetics   \n",
       "362              Byju’s                                             EdTech   \n",
       "107           Curefoods                                   Food & Beverages   \n",
       "109            Bewakoof                                  Apparel & Fashion   \n",
       "111             FanPlay                                     Computer Games   \n",
       "117      Advantage Club                                             HRTech   \n",
       "119              Ruptok                                            FinTech   \n",
       "243            Trinkerr                                    Capital Markets   \n",
       "244               Zorro                                     Social network   \n",
       "245       Ultraviolette                                         Automotive   \n",
       "246          NephroPlus                             Hospital & Health Care   \n",
       "247             Unremot                  Information Technology & Services   \n",
       "248         FanAnywhere                                 Financial Services   \n",
       "249          PingoLearn                                         E-learning   \n",
       "250                Spry                                              Music   \n",
       "251             Enmovil                  Information Technology & Services   \n",
       "252       ASQI Advisors                                 Financial Services   \n",
       "253  Insurance Samadhan                                          Insurance   \n",
       "254     Evenflow Brands                                     Consumer Goods   \n",
       "255          MasterChow                                          Hauz Khas   \n",
       "256  Fullife Healthcare  Primary Business is Development and Manufactur...   \n",
       "\n",
       "            Stage    Amount($)             HeadQuarter  \\\n",
       "348          Seed     250000.0               Bangalore   \n",
       "145          Seed     600000.0                 Jodhpur   \n",
       "205           NaN          NaN                  Mumbai   \n",
       "362           NaN  500000000.0               Bangalore   \n",
       "107           NaN   13000000.0               Bangalore   \n",
       "109           NaN    8000000.0                  Mumbai   \n",
       "111      $1200000          NaN          Computer Games   \n",
       "117           NaN    1700000.0                  Mumbai   \n",
       "119           NaN    1000000.0               New Delhi   \n",
       "243      Series A    6600000.0               Bangalore   \n",
       "244          Seed   32000000.0                Gurugram   \n",
       "245      Series C  150000000.0               Bangalore   \n",
       "246      Series E   24000000.0               Hyderabad   \n",
       "247          Seed     700000.0               Bangalore   \n",
       "248          Seed          NaN               Bangalore   \n",
       "249           NaN     200000.0                    Pune   \n",
       "250          Seed    1500000.0                  Mumbai   \n",
       "251  Pre-series A    1300000.0               Hyderabad   \n",
       "252  Pre-series A    1000000.0                  Mumbai   \n",
       "253  Pre-series A     725000.0               New Delhi   \n",
       "254           NaN     500000.0                  Mumbai   \n",
       "255          Seed     461000.0        Food & Beverages   \n",
       "256           NaN          NaN  Pharmaceuticals\\t#REF!   \n",
       "\n",
       "                                          What it does  Founded  \\\n",
       "348  TheCollegeFever is a hub for fun, fiesta and f...     <NA>   \n",
       "145  Krimanshi aims to increase rural income by imp...     2015   \n",
       "205  Nykaa is an online marketplace for different b...     2012   \n",
       "362  An Indian educational technology and online tu...     2011   \n",
       "107  Healthy & nutritious foods and cold pressed ju...     2020   \n",
       "109  Bewakoof is a lifestyle fashion brand that mak...     2012   \n",
       "111  A real money game app specializing in trivia g...     2020   \n",
       "117  Advantage Club is India's largest employee eng...     2014   \n",
       "119  Ruptok fintech Pvt. Ltd. is an online gold loa...     2020   \n",
       "243  Trinkerr is India's first social trading platf...     2021   \n",
       "244               Pseudonymous social network platform     2021   \n",
       "245  Create and Inspire the future of sustainable u...     2021   \n",
       "246  A vision and passion of redefining healthcare ...     2009   \n",
       "247      Unremot is a personal office for consultants!     2020   \n",
       "248                             Celebrity NFT platform     2021   \n",
       "249  PingoLearn offers language learning courses wi...     2021   \n",
       "250  THE BEST ROYALTY-FREE MUSIC TO CREATE TRENDING...     2021   \n",
       "251  Enmovil delivers a Business Intelligence Platf...     2015   \n",
       "252  Bringing Blockchain technology intro mainstrea...     2019   \n",
       "253  The insurance industry will help in representa...     2018   \n",
       "254  Identify and partner with the upcoming eCommer...     2020   \n",
       "255                A ready-to-cook Asian cuisine brand     2020   \n",
       "256                                       Varun Khanna     2009   \n",
       "\n",
       "                                          Founders  \\\n",
       "348                                            NaN   \n",
       "145                                   Nikhil Bohra   \n",
       "205                                  Falguni Nayar   \n",
       "362                                Byju Raveendran   \n",
       "107                                   Ankit Nagori   \n",
       "109                               Prabhkiran Singh   \n",
       "111                                         YC W21   \n",
       "117             Sourabh Deorah, Smiti Bhatt Deorah   \n",
       "119                                    Ankur Gupta   \n",
       "243                Manvendra Singh, Gaurav Agarwal   \n",
       "244  Jasveer Singh, Abhishek Asthana, Deepak Kumar   \n",
       "245            Subramaniam Narayan, Niraj Rajmohan   \n",
       "246                                 Vikram Vuppala   \n",
       "247                            Shiju Radhakrishnan   \n",
       "248                    Varun Chaudhary, Amit Kumar   \n",
       "249             Mohit Menghani, Shubham Maheshwari   \n",
       "250                Gaurav Dagaonkar, Meghna Mittal   \n",
       "251     Ravi Bulusu, Nanda Kishore, Venkat Moganty   \n",
       "252                                  Swapnil Pawar   \n",
       "253                     Deepak Bhuvenshwari Uniyal   \n",
       "254                  Utsav Agarwal, Pulkit Chhabra   \n",
       "255                  Vidur Kataria, Sidhanth Madan   \n",
       "256             Morgan Stanley Private Equity Asia   \n",
       "\n",
       "                                              Investor  \n",
       "348                                                NaN  \n",
       "145     Rajasthan Venture Capital Fund, AIM Smart City  \n",
       "205                           Alia Bhatt, Katrina Kaif  \n",
       "362              Owl Ventures, Tiger Global Management  \n",
       "107                Iron Pillar, Nordstar, Binny Bansal  \n",
       "109                                         InvestCorp  \n",
       "111                        Pritesh Kumar, Bharat Gupta  \n",
       "117           Y Combinator, Broom Ventures, Kunal Shah  \n",
       "119                                     Eclear Leasing  \n",
       "243                                        Accel India  \n",
       "244  Vijay Shekhar Sharma, Ritesh Agarwal, Ankiti Bose  \n",
       "245                                    TVS Motor, Zoho  \n",
       "246                              IIFL Asset Management  \n",
       "247                          Inflection Point Ventures  \n",
       "248        Oasis Capital, Scorpio VC, DeltaHub Capital  \n",
       "249  Titan Capital, Haresh Chawla, AngelList Syndicate  \n",
       "250                          9Unicorns, Ashneer Grover  \n",
       "251                                  Anicut Angel Fund  \n",
       "252                              Founders Room Capital  \n",
       "253                                     9Unicorns, ZNL  \n",
       "254                                                NaN  \n",
       "255                                       WEH Ventures  \n",
       "256                                          $22000000  "
      ]
     },
     "execution_count": 25,
     "metadata": {},
     "output_type": "execute_result"
    }
   ],
   "source": [
    "# List the rows\n",
    "Data.loc[Data.duplicated(),:]"
   ]
  },
  {
   "cell_type": "code",
   "execution_count": null,
   "id": "2cf63510",
   "metadata": {},
   "outputs": [],
   "source": [
    "# Drop the rows\n",
    "Data.drop_duplicates(keep='first')"
   ]
  },
  {
   "cell_type": "markdown",
   "id": "8e647601",
   "metadata": {},
   "source": [
    "# Outliers within the dataset"
   ]
  },
  {
   "cell_type": "code",
   "execution_count": 29,
   "id": "00b88ca8",
   "metadata": {},
   "outputs": [
    {
     "data": {
      "image/png": "[encoded data removed]",
      "text/plain": [
       "<Figure size 864x720 with 1 Axes>"
      ]
     },
     "metadata": {
      "needs_background": "light"
     },
     "output_type": "display_data"
    }
   ],
   "source": [
    "plt.figure(figsize=(12,10))\n",
    "sns.boxplot(data=Data['Amount($)'],palette='Blues_d')\n",
    "plt.show()\n",
    "\n",
    "\n"
   ]
  },
  {
   "cell_type": "markdown",
   "id": "9f239053",
   "metadata": {},
   "source": [
    "# Using the simpleImputer to replace NaN values"
   ]
  },
  {
   "cell_type": "code",
   "execution_count": 30,
   "id": "770932ec",
   "metadata": {},
   "outputs": [],
   "source": [
    "def replacer(Strategy,column):\n",
    "    imputer = SimpleImputer(strategy =Strategy, missing_values = np.NaN)\n",
    "    imputer = imputer.fit(Data[[column]])\n",
    "    Data[column] = imputer.transform(Data[[column]])\n",
    "replacer('mean','Amount($)')\n",
    "replacer('most_frequent','Stage')\n",
    "replacer('most_frequent','HeadQuarter')\n",
    "replacer('most_frequent','Sector')\n",
    "replacer('most_frequent','Founders')\n",
    "replacer('most_frequent','Investor')\n",
    "replacer('most_frequent','Founded')\n",
    "\n",
    "\n",
    "    \n",
    "\n",
    "\n",
    "    \n"
   ]
  },
  {
   "cell_type": "code",
   "execution_count": 31,
   "id": "c4cec478",
   "metadata": {},
   "outputs": [
    {
     "data": {
      "text/plain": [
       "Company/Brand    0\n",
       "Sector           0\n",
       "Stage            0\n",
       "Amount($)        0\n",
       "HeadQuarter      0\n",
       "What it does     0\n",
       "Founded          0\n",
       "Founders         0\n",
       "Investor         0\n",
       "dtype: int64"
      ]
     },
     "execution_count": 31,
     "metadata": {},
     "output_type": "execute_result"
    }
   ],
   "source": [
    "Data.isnull().sum()"
   ]
  },
  {
   "cell_type": "code",
   "execution_count": 32,
   "id": "8303a61a",
   "metadata": {},
   "outputs": [
    {
     "data": {
      "text/html": [
       "<div>\n",
       "<style scoped>\n",
       "    .dataframe tbody tr th:only-of-type {\n",
       "        vertical-align: middle;\n",
       "    }\n",
       "\n",
       "    .dataframe tbody tr th {\n",
       "        vertical-align: top;\n",
       "    }\n",
       "\n",
       "    .dataframe thead th {\n",
       "        text-align: right;\n",
       "    }\n",
       "</style>\n",
       "<table border=\"1\" class=\"dataframe\">\n",
       "  <thead>\n",
       "    <tr style=\"text-align: right;\">\n",
       "      <th></th>\n",
       "      <th>Company/Brand</th>\n",
       "      <th>Sector</th>\n",
       "      <th>Stage</th>\n",
       "      <th>Amount($)</th>\n",
       "      <th>HeadQuarter</th>\n",
       "      <th>What it does</th>\n",
       "      <th>Founded</th>\n",
       "      <th>Founders</th>\n",
       "      <th>Investor</th>\n",
       "    </tr>\n",
       "  </thead>\n",
       "  <tbody>\n",
       "    <tr>\n",
       "      <th>0</th>\n",
       "      <td>TheCollegeFever</td>\n",
       "      <td>Brand Marketing, Event Promotion, Marketing, S...</td>\n",
       "      <td>Seed</td>\n",
       "      <td>250000.0</td>\n",
       "      <td>Bangalore</td>\n",
       "      <td>TheCollegeFever is a hub for fun, fiesta and f...</td>\n",
       "      <td>2019.0</td>\n",
       "      <td>Ashneer Grover, Shashvat Nakrani</td>\n",
       "      <td>Inflection Point Ventures</td>\n",
       "    </tr>\n",
       "    <tr>\n",
       "      <th>1</th>\n",
       "      <td>Happy Cow Dairy</td>\n",
       "      <td>Agriculture, Farming</td>\n",
       "      <td>Seed</td>\n",
       "      <td>480000.0</td>\n",
       "      <td>Mumbai</td>\n",
       "      <td>A startup which aggregates milk from dairy far...</td>\n",
       "      <td>2019.0</td>\n",
       "      <td>Ashneer Grover, Shashvat Nakrani</td>\n",
       "      <td>Inflection Point Ventures</td>\n",
       "    </tr>\n",
       "    <tr>\n",
       "      <th>2</th>\n",
       "      <td>MyLoanCare</td>\n",
       "      <td>Credit, Financial Services, Lending, Marketplace</td>\n",
       "      <td>Series A</td>\n",
       "      <td>780000.0</td>\n",
       "      <td>Gurgaon</td>\n",
       "      <td>Leading Online Loans Marketplace in India</td>\n",
       "      <td>2019.0</td>\n",
       "      <td>Ashneer Grover, Shashvat Nakrani</td>\n",
       "      <td>Inflection Point Ventures</td>\n",
       "    </tr>\n",
       "    <tr>\n",
       "      <th>3</th>\n",
       "      <td>PayMe India</td>\n",
       "      <td>Financial Services, FinTech</td>\n",
       "      <td>Angel</td>\n",
       "      <td>2000000.0</td>\n",
       "      <td>Noida</td>\n",
       "      <td>PayMe India is an innovative FinTech organizat...</td>\n",
       "      <td>2019.0</td>\n",
       "      <td>Ashneer Grover, Shashvat Nakrani</td>\n",
       "      <td>Inflection Point Ventures</td>\n",
       "    </tr>\n",
       "    <tr>\n",
       "      <th>4</th>\n",
       "      <td>Eunimart</td>\n",
       "      <td>E-Commerce Platforms, Retail, SaaS</td>\n",
       "      <td>Seed</td>\n",
       "      <td>121210624.0</td>\n",
       "      <td>Hyderabad</td>\n",
       "      <td>Eunimart is a one stop solution for merchants ...</td>\n",
       "      <td>2019.0</td>\n",
       "      <td>Ashneer Grover, Shashvat Nakrani</td>\n",
       "      <td>Inflection Point Ventures</td>\n",
       "    </tr>\n",
       "  </tbody>\n",
       "</table>\n",
       "</div>"
      ],
      "text/plain": [
       "     Company/Brand                                             Sector  \\\n",
       "0  TheCollegeFever  Brand Marketing, Event Promotion, Marketing, S...   \n",
       "1  Happy Cow Dairy                               Agriculture, Farming   \n",
       "2       MyLoanCare   Credit, Financial Services, Lending, Marketplace   \n",
       "3      PayMe India                        Financial Services, FinTech   \n",
       "4         Eunimart                 E-Commerce Platforms, Retail, SaaS   \n",
       "\n",
       "      Stage    Amount($) HeadQuarter  \\\n",
       "0      Seed     250000.0   Bangalore   \n",
       "1      Seed     480000.0      Mumbai   \n",
       "2  Series A     780000.0     Gurgaon   \n",
       "3     Angel    2000000.0       Noida   \n",
       "4      Seed  121210624.0   Hyderabad   \n",
       "\n",
       "                                        What it does  Founded  \\\n",
       "0  TheCollegeFever is a hub for fun, fiesta and f...   2019.0   \n",
       "1  A startup which aggregates milk from dairy far...   2019.0   \n",
       "2          Leading Online Loans Marketplace in India   2019.0   \n",
       "3  PayMe India is an innovative FinTech organizat...   2019.0   \n",
       "4  Eunimart is a one stop solution for merchants ...   2019.0   \n",
       "\n",
       "                           Founders                   Investor  \n",
       "0  Ashneer Grover, Shashvat Nakrani  Inflection Point Ventures  \n",
       "1  Ashneer Grover, Shashvat Nakrani  Inflection Point Ventures  \n",
       "2  Ashneer Grover, Shashvat Nakrani  Inflection Point Ventures  \n",
       "3  Ashneer Grover, Shashvat Nakrani  Inflection Point Ventures  \n",
       "4  Ashneer Grover, Shashvat Nakrani  Inflection Point Ventures  "
      ]
     },
     "execution_count": 32,
     "metadata": {},
     "output_type": "execute_result"
    }
   ],
   "source": [
    "Data.head(5)"
   ]
  },
  {
   "cell_type": "code",
   "execution_count": 33,
   "id": "0a684dc7",
   "metadata": {},
   "outputs": [
    {
     "data": {
      "text/plain": [
       "(2879, 9)"
      ]
     },
     "execution_count": 33,
     "metadata": {},
     "output_type": "execute_result"
    }
   ],
   "source": [
    "\n",
    "Data.shape"
   ]
  },
  {
   "cell_type": "code",
   "execution_count": 34,
   "id": "7f85efa3",
   "metadata": {},
   "outputs": [
    {
     "data": {
      "text/plain": [
       "array(['Bangalore', 'Mumbai', 'Gurgaon', 'Noida', 'Hyderabad',\n",
       "       'Bengaluru', 'Kalkaji', 'Delhi', 'India', 'Hubli', 'New Delhi',\n",
       "       'Chennai', 'Mohali', 'Kolkata', 'Pune', 'Jodhpur', 'Kanpur',\n",
       "       'Ahmedabad', 'Azadpur', 'Haryana', 'Cochin', 'Faridabad', 'Jaipur',\n",
       "       'Kota', 'Anand', 'Bangalore City', 'Belgaum', 'Thane', 'Margão',\n",
       "       'Indore', 'Alwar', 'Kannur', 'Trivandrum', 'Ernakulam',\n",
       "       'Kormangala', 'Uttar Pradesh', 'Andheri', 'Mylapore', 'Ghaziabad',\n",
       "       'Kochi', 'Powai', 'Guntur', 'Kalpakkam', 'Bhopal', 'Coimbatore',\n",
       "       'Worli', 'Alleppey', 'Chandigarh', 'Guindy', 'Lucknow',\n",
       "       'Telangana', 'Gurugram', 'Surat', 'Uttar pradesh', 'Rajasthan',\n",
       "       'Tirunelveli, Tamilnadu', 'Singapore', 'Gujarat', 'Kerala',\n",
       "       'Jaipur, Rajastan', 'Frisco, Texas, United States', 'California',\n",
       "       'Dhingsara, Haryana', 'New York, United States', 'Patna',\n",
       "       'San Francisco, California, United States',\n",
       "       'San Francisco, United States', 'San Ramon, California',\n",
       "       'Paris, Ile-de-France, France', 'Plano, Texas, United States',\n",
       "       'Sydney', 'San Francisco Bay Area, Silicon Valley, West Coast',\n",
       "       'Bangaldesh', 'London, England, United Kingdom',\n",
       "       'Sydney, New South Wales, Australia', 'Milano, Lombardia, Italy',\n",
       "       'Palmwoods, Queensland, Australia', 'France',\n",
       "       'San Francisco Bay Area, West Coast, Western US',\n",
       "       'Trivandrum, Kerala, India', 'Samastipur, Bihar',\n",
       "       'Irvine, California, United States', 'Tumkur, Karnataka',\n",
       "       'Newcastle Upon Tyne, Newcastle upon Tyne, United Kingdom',\n",
       "       'Shanghai, China', 'Jiaxing, Zhejiang, China', 'Rajastan',\n",
       "       'Ludhiana', 'Dehradun', 'San Franciscao', 'San Francisco',\n",
       "       'Tangerang, Jawa Barat, Indonesia', 'Berlin', 'Seattle', 'Riyadh',\n",
       "       'Seoul', 'New York', 'Bangkok', 'Warangal', 'Hyderebad', 'Odisha',\n",
       "       'Bihar', 'Goa', 'Tamil Nadu', 'Banglore', 'Ahmadabad',\n",
       "       'Small Towns, Andhra Pradesh', 'Rajsamand', 'Ranchi',\n",
       "       'Faridabad, Haryana', 'Computer Games', 'Vadodara',\n",
       "       'Food & Beverages', 'Pharmaceuticals\\t#REF!', 'Gurugram\\t#REF!',\n",
       "       'Nagpur', 'West Bengal', 'Samsitpur', 'Silvassa',\n",
       "       'Thiruvananthapuram', 'Roorkee', 'Ambernath', 'Panchkula',\n",
       "       'Mangalore', 'Telugana', 'Bhubaneswar', 'Kottayam', 'Beijing',\n",
       "       'Panaji', 'Satara', 'Orissia', 'Santra', 'Mountain View, CA',\n",
       "       'Jharkhand', 'Bhilwara', 'Guwahati', 'Online Media\\t#REF!',\n",
       "       'London', 'Information Technology & Services', 'The Nilgiris',\n",
       "       'Gandhinagar'], dtype=object)"
      ]
     },
     "execution_count": 34,
     "metadata": {},
     "output_type": "execute_result"
    }
   ],
   "source": [
    "Data['HeadQuarter'].unique()"
   ]
  },
  {
   "cell_type": "code",
   "execution_count": 35,
   "id": "0531f055",
   "metadata": {},
   "outputs": [
    {
     "data": {
      "text/html": [
       "<div>\n",
       "<style scoped>\n",
       "    .dataframe tbody tr th:only-of-type {\n",
       "        vertical-align: middle;\n",
       "    }\n",
       "\n",
       "    .dataframe tbody tr th {\n",
       "        vertical-align: top;\n",
       "    }\n",
       "\n",
       "    .dataframe thead th {\n",
       "        text-align: right;\n",
       "    }\n",
       "</style>\n",
       "<table border=\"1\" class=\"dataframe\">\n",
       "  <thead>\n",
       "    <tr style=\"text-align: right;\">\n",
       "      <th></th>\n",
       "      <th>Amount($)</th>\n",
       "      <th>Founded</th>\n",
       "    </tr>\n",
       "  </thead>\n",
       "  <tbody>\n",
       "    <tr>\n",
       "      <th>count</th>\n",
       "      <td>2.879000e+03</td>\n",
       "      <td>2879.000000</td>\n",
       "    </tr>\n",
       "    <tr>\n",
       "      <th>mean</th>\n",
       "      <td>1.212111e+08</td>\n",
       "      <td>2016.859673</td>\n",
       "    </tr>\n",
       "    <tr>\n",
       "      <th>std</th>\n",
       "      <td>3.085232e+09</td>\n",
       "      <td>3.956210</td>\n",
       "    </tr>\n",
       "    <tr>\n",
       "      <th>min</th>\n",
       "      <td>9.600000e+00</td>\n",
       "      <td>1963.000000</td>\n",
       "    </tr>\n",
       "    <tr>\n",
       "      <th>25%</th>\n",
       "      <td>1.000000e+06</td>\n",
       "      <td>2015.000000</td>\n",
       "    </tr>\n",
       "    <tr>\n",
       "      <th>50%</th>\n",
       "      <td>5.200000e+06</td>\n",
       "      <td>2018.000000</td>\n",
       "    </tr>\n",
       "    <tr>\n",
       "      <th>75%</th>\n",
       "      <td>9.000000e+07</td>\n",
       "      <td>2019.000000</td>\n",
       "    </tr>\n",
       "    <tr>\n",
       "      <th>max</th>\n",
       "      <td>1.500000e+11</td>\n",
       "      <td>2021.000000</td>\n",
       "    </tr>\n",
       "  </tbody>\n",
       "</table>\n",
       "</div>"
      ],
      "text/plain": [
       "          Amount($)      Founded\n",
       "count  2.879000e+03  2879.000000\n",
       "mean   1.212111e+08  2016.859673\n",
       "std    3.085232e+09     3.956210\n",
       "min    9.600000e+00  1963.000000\n",
       "25%    1.000000e+06  2015.000000\n",
       "50%    5.200000e+06  2018.000000\n",
       "75%    9.000000e+07  2019.000000\n",
       "max    1.500000e+11  2021.000000"
      ]
     },
     "execution_count": 35,
     "metadata": {},
     "output_type": "execute_result"
    }
   ],
   "source": [
    "Data.describe()"
   ]
  },
  {
   "cell_type": "markdown",
   "id": "a647c746",
   "metadata": {},
   "source": [
    "# 1. Which company has the highest amount of funds?"
   ]
  },
  {
   "cell_type": "code",
   "execution_count": 36,
   "id": "1a794d27",
   "metadata": {},
   "outputs": [
    {
     "data": {
      "text/html": [
       "<div>\n",
       "<style scoped>\n",
       "    .dataframe tbody tr th:only-of-type {\n",
       "        vertical-align: middle;\n",
       "    }\n",
       "\n",
       "    .dataframe tbody tr th {\n",
       "        vertical-align: top;\n",
       "    }\n",
       "\n",
       "    .dataframe thead th {\n",
       "        text-align: right;\n",
       "    }\n",
       "</style>\n",
       "<table border=\"1\" class=\"dataframe\">\n",
       "  <thead>\n",
       "    <tr style=\"text-align: right;\">\n",
       "      <th></th>\n",
       "      <th>Company/Brand</th>\n",
       "      <th>Amount($)</th>\n",
       "    </tr>\n",
       "  </thead>\n",
       "  <tbody>\n",
       "    <tr>\n",
       "      <th>70</th>\n",
       "      <td>Alteria Capital</td>\n",
       "      <td>1.500000e+11</td>\n",
       "    </tr>\n",
       "    <tr>\n",
       "      <th>1556</th>\n",
       "      <td>Reliance Retail Ventures Ltd</td>\n",
       "      <td>7.000000e+10</td>\n",
       "    </tr>\n",
       "    <tr>\n",
       "      <th>1726</th>\n",
       "      <td>Snowflake</td>\n",
       "      <td>3.000000e+09</td>\n",
       "    </tr>\n",
       "    <tr>\n",
       "      <th>1553</th>\n",
       "      <td>Reliance</td>\n",
       "      <td>2.200000e+09</td>\n",
       "    </tr>\n",
       "    <tr>\n",
       "      <th>1818</th>\n",
       "      <td>Swiggy</td>\n",
       "      <td>1.956000e+09</td>\n",
       "    </tr>\n",
       "    <tr>\n",
       "      <th>...</th>\n",
       "      <td>...</td>\n",
       "      <td>...</td>\n",
       "    </tr>\n",
       "    <tr>\n",
       "      <th>527</th>\n",
       "      <td>ENLYFT DIGITAL SOLUTIONS PRIVATE LIMITED</td>\n",
       "      <td>2.400000e+03</td>\n",
       "    </tr>\n",
       "    <tr>\n",
       "      <th>345</th>\n",
       "      <td>Classworks India</td>\n",
       "      <td>1.200000e+03</td>\n",
       "    </tr>\n",
       "    <tr>\n",
       "      <th>1279</th>\n",
       "      <td>Next Digital Solutions</td>\n",
       "      <td>1.200000e+03</td>\n",
       "    </tr>\n",
       "    <tr>\n",
       "      <th>1393</th>\n",
       "      <td>Peel Works</td>\n",
       "      <td>4.223000e+01</td>\n",
       "    </tr>\n",
       "    <tr>\n",
       "      <th>1596</th>\n",
       "      <td>SATYA Microcapital</td>\n",
       "      <td>9.600000e+00</td>\n",
       "    </tr>\n",
       "  </tbody>\n",
       "</table>\n",
       "<p>2214 rows × 2 columns</p>\n",
       "</div>"
      ],
      "text/plain": [
       "                                 Company/Brand     Amount($)\n",
       "70                             Alteria Capital  1.500000e+11\n",
       "1556              Reliance Retail Ventures Ltd  7.000000e+10\n",
       "1726                                 Snowflake  3.000000e+09\n",
       "1553                                  Reliance  2.200000e+09\n",
       "1818                                    Swiggy  1.956000e+09\n",
       "...                                        ...           ...\n",
       "527   ENLYFT DIGITAL SOLUTIONS PRIVATE LIMITED  2.400000e+03\n",
       "345                           Classworks India  1.200000e+03\n",
       "1279                    Next Digital Solutions  1.200000e+03\n",
       "1393                                Peel Works  4.223000e+01\n",
       "1596                        SATYA Microcapital  9.600000e+00\n",
       "\n",
       "[2214 rows x 2 columns]"
      ]
     },
     "execution_count": 36,
     "metadata": {},
     "output_type": "execute_result"
    }
   ],
   "source": [
    "top_companies=Data.groupby(\"Company/Brand\")[\"Amount($)\"].sum().reset_index().sort_values(by=\"Amount($)\",ascending=False)\n",
    "top_companies "
   ]
  },
  {
   "cell_type": "code",
   "execution_count": 37,
   "id": "a5828820",
   "metadata": {},
   "outputs": [
    {
     "data": {
      "image/png": "[encoded data removed]",
      "text/plain": [
       "<Figure size 864x360 with 1 Axes>"
      ]
     },
     "metadata": {
      "needs_background": "light"
     },
     "output_type": "display_data"
    }
   ],
   "source": [
    "fig = plt.figure(figsize=(12,5))\n",
    "plt.title(\"top_companies\")\n",
    "sns.barplot(data=top_companies.iloc[:5] , x=\"Amount($)\", y=\"Company/Brand\", palette='Blues_d')\n",
    "\n",
    "fig.show()"
   ]
  },
  {
   "cell_type": "markdown",
   "id": "45d66fac",
   "metadata": {},
   "source": [
    "# 2. Which location has the minimum startup funds?"
   ]
  },
  {
   "cell_type": "code",
   "execution_count": 38,
   "id": "ef428752",
   "metadata": {},
   "outputs": [
    {
     "data": {
      "text/html": [
       "<div>\n",
       "<style scoped>\n",
       "    .dataframe tbody tr th:only-of-type {\n",
       "        vertical-align: middle;\n",
       "    }\n",
       "\n",
       "    .dataframe tbody tr th {\n",
       "        vertical-align: top;\n",
       "    }\n",
       "\n",
       "    .dataframe thead th {\n",
       "        text-align: right;\n",
       "    }\n",
       "</style>\n",
       "<table border=\"1\" class=\"dataframe\">\n",
       "  <thead>\n",
       "    <tr style=\"text-align: right;\">\n",
       "      <th></th>\n",
       "      <th>HeadQuarter</th>\n",
       "      <th>Amount($)</th>\n",
       "    </tr>\n",
       "  </thead>\n",
       "  <tbody>\n",
       "    <tr>\n",
       "      <th>67</th>\n",
       "      <td>Kota</td>\n",
       "      <td>1.200000e+03</td>\n",
       "    </tr>\n",
       "    <tr>\n",
       "      <th>61</th>\n",
       "      <td>Kannur</td>\n",
       "      <td>1.440000e+04</td>\n",
       "    </tr>\n",
       "    <tr>\n",
       "      <th>29</th>\n",
       "      <td>Dhingsara, Haryana</td>\n",
       "      <td>1.000000e+05</td>\n",
       "    </tr>\n",
       "    <tr>\n",
       "      <th>101</th>\n",
       "      <td>Ranchi</td>\n",
       "      <td>1.000000e+05</td>\n",
       "    </tr>\n",
       "    <tr>\n",
       "      <th>91</th>\n",
       "      <td>Panchkula</td>\n",
       "      <td>1.000000e+05</td>\n",
       "    </tr>\n",
       "    <tr>\n",
       "      <th>...</th>\n",
       "      <td>...</td>\n",
       "      <td>...</td>\n",
       "    </tr>\n",
       "    <tr>\n",
       "      <th>97</th>\n",
       "      <td>Pune</td>\n",
       "      <td>4.909118e+09</td>\n",
       "    </tr>\n",
       "    <tr>\n",
       "      <th>43</th>\n",
       "      <td>Gurugram</td>\n",
       "      <td>9.107283e+09</td>\n",
       "    </tr>\n",
       "    <tr>\n",
       "      <th>81</th>\n",
       "      <td>New Delhi</td>\n",
       "      <td>9.201621e+09</td>\n",
       "    </tr>\n",
       "    <tr>\n",
       "      <th>9</th>\n",
       "      <td>Bangalore</td>\n",
       "      <td>4.707058e+10</td>\n",
       "    </tr>\n",
       "    <tr>\n",
       "      <th>78</th>\n",
       "      <td>Mumbai</td>\n",
       "      <td>2.428594e+11</td>\n",
       "    </tr>\n",
       "  </tbody>\n",
       "</table>\n",
       "<p>141 rows × 2 columns</p>\n",
       "</div>"
      ],
      "text/plain": [
       "            HeadQuarter     Amount($)\n",
       "67                 Kota  1.200000e+03\n",
       "61               Kannur  1.440000e+04\n",
       "29   Dhingsara, Haryana  1.000000e+05\n",
       "101              Ranchi  1.000000e+05\n",
       "91            Panchkula  1.000000e+05\n",
       "..                  ...           ...\n",
       "97                 Pune  4.909118e+09\n",
       "43             Gurugram  9.107283e+09\n",
       "81            New Delhi  9.201621e+09\n",
       "9             Bangalore  4.707058e+10\n",
       "78               Mumbai  2.428594e+11\n",
       "\n",
       "[141 rows x 2 columns]"
      ]
     },
     "execution_count": 38,
     "metadata": {},
     "output_type": "execute_result"
    }
   ],
   "source": [
    "Location_with_least_amount = Data.groupby(\"HeadQuarter\")[\"Amount($)\"].sum().reset_index().sort_values(by=\"Amount($)\",ascending=True)\n",
    "Location_with_least_amount"
   ]
  },
  {
   "cell_type": "code",
   "execution_count": 39,
   "id": "82ea29ac",
   "metadata": {},
   "outputs": [
    {
     "data": {
      "image/png": "[encoded data removed]",
      "text/plain": [
       "<Figure size 864x360 with 1 Axes>"
      ]
     },
     "metadata": {
      "needs_background": "light"
     },
     "output_type": "display_data"
    }
   ],
   "source": [
    "fig = plt.figure(figsize=(12,5))\n",
    "plt.title(\"Location_with_least_amount\")\n",
    "sns.barplot(data=Location_with_least_amount.iloc[:5] , x=\"Amount($)\", y=\"HeadQuarter\", palette='Blues_d')\n",
    "fig.show()"
   ]
  },
  {
   "cell_type": "markdown",
   "id": "37458f5c",
   "metadata": {},
   "source": [
    "# 3.In which sector has the top 5 investors."
   ]
  },
  {
   "cell_type": "code",
   "execution_count": 40,
   "id": "7c26cc3e",
   "metadata": {},
   "outputs": [
    {
     "data": {
      "text/html": [
       "<div>\n",
       "<style scoped>\n",
       "    .dataframe tbody tr th:only-of-type {\n",
       "        vertical-align: middle;\n",
       "    }\n",
       "\n",
       "    .dataframe tbody tr th {\n",
       "        vertical-align: top;\n",
       "    }\n",
       "\n",
       "    .dataframe thead th {\n",
       "        text-align: right;\n",
       "    }\n",
       "</style>\n",
       "<table border=\"1\" class=\"dataframe\">\n",
       "  <thead>\n",
       "    <tr style=\"text-align: right;\">\n",
       "      <th></th>\n",
       "      <th>Sector</th>\n",
       "      <th>Amount($)</th>\n",
       "    </tr>\n",
       "  </thead>\n",
       "  <tbody>\n",
       "    <tr>\n",
       "      <th>445</th>\n",
       "      <td>FinTech</td>\n",
       "      <td>1.567944e+11</td>\n",
       "    </tr>\n",
       "    <tr>\n",
       "      <th>757</th>\n",
       "      <td>Retail</td>\n",
       "      <td>7.078480e+10</td>\n",
       "    </tr>\n",
       "    <tr>\n",
       "      <th>385</th>\n",
       "      <td>EdTech</td>\n",
       "      <td>7.028188e+09</td>\n",
       "    </tr>\n",
       "    <tr>\n",
       "      <th>394</th>\n",
       "      <td>Edtech</td>\n",
       "      <td>4.335416e+09</td>\n",
       "    </tr>\n",
       "    <tr>\n",
       "      <th>374</th>\n",
       "      <td>E-commerce</td>\n",
       "      <td>3.612616e+09</td>\n",
       "    </tr>\n",
       "  </tbody>\n",
       "</table>\n",
       "</div>"
      ],
      "text/plain": [
       "         Sector     Amount($)\n",
       "445     FinTech  1.567944e+11\n",
       "757      Retail  7.078480e+10\n",
       "385      EdTech  7.028188e+09\n",
       "394      Edtech  4.335416e+09\n",
       "374  E-commerce  3.612616e+09"
      ]
     },
     "execution_count": 40,
     "metadata": {},
     "output_type": "execute_result"
    }
   ],
   "source": [
    "Top_Sectors = Data.groupby(\"Sector\")[\"Amount($)\"].sum().reset_index().sort_values(by=\"Amount($)\",ascending=False).iloc[:5]\n",
    "Top_Sectors"
   ]
  },
  {
   "cell_type": "code",
   "execution_count": 41,
   "id": "6f15de48",
   "metadata": {},
   "outputs": [
    {
     "data": {
      "image/png": "[encoded data removed]",
      "text/plain": [
       "<Figure size 1440x720 with 1 Axes>"
      ]
     },
     "metadata": {
      "needs_background": "light"
     },
     "output_type": "display_data"
    }
   ],
   "source": [
    "fig = plt.figure(figsize=(20,10))\n",
    "plt.title(\"Top_Sectors\")\n",
    "sns.barplot(data=Top_Sectors.iloc[:5] , y=\"Amount($)\", x=\"Sector\", palette='Blues_d')\n",
    "fig.show()"
   ]
  },
  {
   "cell_type": "markdown",
   "id": "a3283cc3",
   "metadata": {},
   "source": [
    " # 4. How much did the investors contributed in Delhi and Mumbai?"
   ]
  },
  {
   "cell_type": "code",
   "execution_count": 42,
   "id": "83019c46",
   "metadata": {},
   "outputs": [
    {
     "data": {
      "text/html": [
       "<div>\n",
       "<style scoped>\n",
       "    .dataframe tbody tr th:only-of-type {\n",
       "        vertical-align: middle;\n",
       "    }\n",
       "\n",
       "    .dataframe tbody tr th {\n",
       "        vertical-align: top;\n",
       "    }\n",
       "\n",
       "    .dataframe thead th {\n",
       "        text-align: right;\n",
       "    }\n",
       "</style>\n",
       "<table border=\"1\" class=\"dataframe\">\n",
       "  <thead>\n",
       "    <tr style=\"text-align: right;\">\n",
       "      <th></th>\n",
       "      <th>HeadQuarter</th>\n",
       "      <th>Amount($)</th>\n",
       "    </tr>\n",
       "  </thead>\n",
       "  <tbody>\n",
       "    <tr>\n",
       "      <th>1</th>\n",
       "      <td>Mumbai</td>\n",
       "      <td>2.428594e+11</td>\n",
       "    </tr>\n",
       "    <tr>\n",
       "      <th>0</th>\n",
       "      <td>Delhi</td>\n",
       "      <td>4.340888e+09</td>\n",
       "    </tr>\n",
       "  </tbody>\n",
       "</table>\n",
       "</div>"
      ],
      "text/plain": [
       "  HeadQuarter     Amount($)\n",
       "1      Mumbai  2.428594e+11\n",
       "0       Delhi  4.340888e+09"
      ]
     },
     "execution_count": 42,
     "metadata": {},
     "output_type": "execute_result"
    }
   ],
   "source": [
    "D1 = Data.iloc[:,[4,3]]\n",
    "x = ['Delhi','Mumbai']\n",
    "D2 = D1[D1.HeadQuarter.isin(x)]\n",
    "D2.groupby(\"HeadQuarter\")[\"Amount($)\"].sum().reset_index().sort_values(by=\"Amount($)\",ascending=False)"
   ]
  },
  {
   "cell_type": "code",
   "execution_count": 43,
   "id": "d15c302f",
   "metadata": {},
   "outputs": [
    {
     "data": {
      "image/png": "[encoded data removed]",
      "text/plain": [
       "<Figure size 864x360 with 1 Axes>"
      ]
     },
     "metadata": {
      "needs_background": "light"
     },
     "output_type": "display_data"
    }
   ],
   "source": [
    "fig = plt.figure(figsize=(12,5))\n",
    "plt.title(\"Amount Contributed in Delhi and Mumbai\")\n",
    "sns.barplot(data=D2 , y=\"Amount($)\", x=\"HeadQuarter\", palette=['red','green'])\n",
    "fig.show()\n"
   ]
  },
  {
   "cell_type": "markdown",
   "id": "0da78927",
   "metadata": {},
   "source": [
    " # 5. How many companies received an amount Greater than or equal to the average amount?\n",
    " "
   ]
  },
  {
   "cell_type": "code",
   "execution_count": 44,
   "id": "92c0b356",
   "metadata": {},
   "outputs": [
    {
     "data": {
      "text/plain": [
       "Company/Brand    108\n",
       "Amount($)        108\n",
       "dtype: int64"
      ]
     },
     "execution_count": 44,
     "metadata": {},
     "output_type": "execute_result"
    }
   ],
   "source": [
    "\n",
    "Amount_greater_or_equal = Data.loc[Data['Amount($)'] >= Data['Amount($)'].mean(),['Company/Brand','Amount($)']]\n",
    "Amount_greater_or_equal.count()"
   ]
  },
  {
   "cell_type": "code",
   "execution_count": 45,
   "id": "892a16ca",
   "metadata": {},
   "outputs": [
    {
     "data": {
      "image/png": "[encoded data removed]",
      "text/plain": [
       "<Figure size 864x360 with 1 Axes>"
      ]
     },
     "metadata": {
      "needs_background": "light"
     },
     "output_type": "display_data"
    }
   ],
   "source": [
    "fig = plt.figure(figsize=(12,5))\n",
    "plt.title(\"Top 5 Companies with an amount greater or equal to the mean amount\")\n",
    "sns.barplot(data=Amount_greater_or_equal.iloc[:5] , x=\"Amount($)\", y=\"Company/Brand\", palette='Blues_d')\n",
    "fig.show()"
   ]
  },
  {
   "cell_type": "markdown",
   "id": "c6f045fd",
   "metadata": {},
   "source": [
    "# Univariate Analysis"
   ]
  },
  {
   "cell_type": "markdown",
   "id": "5127f43b",
   "metadata": {},
   "source": [
    "Categorical Features"
   ]
  },
  {
   "cell_type": "code",
   "execution_count": 46,
   "id": "caaad323",
   "metadata": {},
   "outputs": [
    {
     "data": {
      "image/png": "[encoded data removed]",
      "text/plain": [
       "<Figure size 432x288 with 1 Axes>"
      ]
     },
     "metadata": {
      "needs_background": "light"
     },
     "output_type": "display_data"
    }
   ],
   "source": [
    "Data['HeadQuarter'].value_counts(normalize=True)\n",
    "\n",
    "#plot the bar graph of HeadQuarter categories\n",
    "plt.title(' HeadQuarter categories')\n",
    "Data['HeadQuarter'].iloc[:10].value_counts(normalize=True).plot.barh()\n",
    "plt.show()"
   ]
  },
  {
   "cell_type": "code",
   "execution_count": 47,
   "id": "e3b7414f",
   "metadata": {},
   "outputs": [
    {
     "data": {
      "image/png": "[encoded data removed]",
      "text/plain": [
       "<Figure size 432x288 with 1 Axes>"
      ]
     },
     "metadata": {},
     "output_type": "display_data"
    }
   ],
   "source": [
    "Data['Stage'].value_counts(normalize=True)\n",
    "\n",
    "#plot pie chart of Stage categories\n",
    "plt.title('Stage categories')\n",
    "Data['Stage'].iloc[:10].value_counts(normalize=True).plot.pie()\n",
    "plt.show()"
   ]
  },
  {
   "cell_type": "markdown",
   "id": "68e56be5",
   "metadata": {},
   "source": [
    "Numerical Features"
   ]
  },
  {
   "cell_type": "code",
   "execution_count": 48,
   "id": "f4d4ae13",
   "metadata": {},
   "outputs": [
    {
     "data": {
      "image/png": "[encoded data removed]",
      "text/plain": [
       "<Figure size 432x288 with 1 Axes>"
      ]
     },
     "metadata": {
      "needs_background": "light"
     },
     "output_type": "display_data"
    }
   ],
   "source": [
    "Data['Amount($)'].value_counts(normalize=True)\n",
    "\n",
    "#plot Kernel density estimate chart of Amount categories\n",
    "plt.title('Amount($) Categories')\n",
    "Data['Amount($)'].iloc[:10].value_counts(normalize=True).plot.kde()\n",
    "plt.show()"
   ]
  },
  {
   "cell_type": "code",
   "execution_count": 88,
   "id": "cae097cc",
   "metadata": {},
   "outputs": [
    {
     "data": {
      "image/png": "[encoded data removed]",
      "text/plain": [
       "<Figure size 432x288 with 1 Axes>"
      ]
     },
     "metadata": {},
     "output_type": "display_data"
    }
   ],
   "source": [
    "Data['Amount($)'].value_counts(normalize=True)\n",
    "\n",
    "#plot pie chart of Amount categories\n",
    "plt.title('Amount($) Categories')\n",
    "Data['Amount($)'].iloc[:10].value_counts(normalize=True).plot.kde()\n",
    "plt.show()"
   ]
  },
  {
   "cell_type": "code",
   "execution_count": 50,
   "id": "fef0330b",
   "metadata": {},
   "outputs": [
    {
     "data": {
      "image/png": "[encoded data removed]",
      "text/plain": [
       "<Figure size 720x360 with 2 Axes>"
      ]
     },
     "metadata": {
      "needs_background": "light"
     },
     "output_type": "display_data"
    }
   ],
   "source": [
    "Data.hist(bins = 50, figsize = (10,5))\n",
    "plt.show()"
   ]
  },
  {
   "cell_type": "markdown",
   "id": "822c906c",
   "metadata": {},
   "source": [
    "# Multivariate Analysis"
   ]
  },
  {
   "cell_type": "code",
   "execution_count": 86,
   "id": "1b505b78",
   "metadata": {},
   "outputs": [
    {
     "data": {
      "text/html": [
       "<div>\n",
       "<style scoped>\n",
       "    .dataframe tbody tr th:only-of-type {\n",
       "        vertical-align: middle;\n",
       "    }\n",
       "\n",
       "    .dataframe tbody tr th {\n",
       "        vertical-align: top;\n",
       "    }\n",
       "\n",
       "    .dataframe thead th {\n",
       "        text-align: right;\n",
       "    }\n",
       "</style>\n",
       "<table border=\"1\" class=\"dataframe\">\n",
       "  <thead>\n",
       "    <tr style=\"text-align: right;\">\n",
       "      <th></th>\n",
       "      <th>Amount($)</th>\n",
       "      <th>Founded</th>\n",
       "    </tr>\n",
       "  </thead>\n",
       "  <tbody>\n",
       "    <tr>\n",
       "      <th>Amount($)</th>\n",
       "      <td>1.000000</td>\n",
       "      <td>-0.022569</td>\n",
       "    </tr>\n",
       "    <tr>\n",
       "      <th>Founded</th>\n",
       "      <td>-0.022569</td>\n",
       "      <td>1.000000</td>\n",
       "    </tr>\n",
       "  </tbody>\n",
       "</table>\n",
       "</div>"
      ],
      "text/plain": [
       "           Amount($)   Founded\n",
       "Amount($)   1.000000 -0.022569\n",
       "Founded    -0.022569  1.000000"
      ]
     },
     "execution_count": 86,
     "metadata": {},
     "output_type": "execute_result"
    }
   ],
   "source": [
    "Data.corr()"
   ]
  },
  {
   "cell_type": "code",
   "execution_count": 90,
   "id": "9bc8536e",
   "metadata": {},
   "outputs": [
    {
     "data": {
      "image/png": "[encoded data removed]",
      "text/plain": [
       "<Figure size 432x288 with 2 Axes>"
      ]
     },
     "metadata": {},
     "output_type": "display_data"
    }
   ],
   "source": [
    "sns.set(font_scale = 1.15)\n",
    "\n",
    "sns.heatmap(\n",
    "    Data.corr(),\n",
    "    cmap = 'RdBu_r',\n",
    "    annot = True,\n",
    "    vmin = -1, vmax = 1);"
   ]
  },
  {
   "cell_type": "code",
   "execution_count": 101,
   "id": "cc33fcb0",
   "metadata": {},
   "outputs": [
    {
     "data": {
      "image/png": "[encoded data removed]",
      "text/plain": [
       "<Figure size 432x288 with 1 Axes>"
      ]
     },
     "metadata": {},
     "output_type": "display_data"
    }
   ],
   "source": [
    "sns.scatterplot(\n",
    "    y = 'Amount($)',\n",
    "    x = 'Founded',\n",
    "    data = Data.iloc[:5],\n",
    "    palette = 'bright',\n",
    "    hue = 'HeadQuarter');"
   ]
  },
  {
   "cell_type": "code",
   "execution_count": 103,
   "id": "241fa6b9",
   "metadata": {},
   "outputs": [
    {
     "data": {
      "image/png": "[encoded data removed]",
      "text/plain": [
       "<Figure size 1187.29x360 with 3 Axes>"
      ]
     },
     "metadata": {},
     "output_type": "display_data"
    }
   ],
   "source": [
    "sns.lmplot(\n",
    "    y = 'Amount($)',\n",
    "    x = 'Founded',\n",
    "    data = Data.iloc[:5],\n",
    "    palette = 'bright',\n",
    "    col = 'Stage',\n",
    "    hue = 'HeadQuarter');"
   ]
  },
  {
   "cell_type": "code",
   "execution_count": 109,
   "id": "2120e66b",
   "metadata": {},
   "outputs": [
    {
     "data": {
      "image/png": "[encoded data removed]",
      "text/plain": [
       "<Figure size 432x288 with 1 Axes>"
      ]
     },
     "metadata": {},
     "output_type": "display_data"
    }
   ],
   "source": [
    "sns.barplot(\n",
    "    y = 'Amount($)',\n",
    "    x = 'Founded',\n",
    "    data = Data.iloc[:10],\n",
    "    palette = 'bright',\n",
    "    hue = 'Company/Brand');"
   ]
  },
  {
   "cell_type": "markdown",
   "id": "536ddf1e",
   "metadata": {},
   "source": [
    "# Feature processing\n",
    "\n",
    "Clean and process the dataset"
   ]
  },
  {
   "cell_type": "markdown",
   "id": "70353ed8",
   "metadata": {},
   "source": [
    "# Missing Values\n",
    "\n",
    "Finding the NaN values using Scikif-learn SimpleImputer"
   ]
  },
  {
   "cell_type": "code",
   "execution_count": 60,
   "id": "ffdd4653",
   "metadata": {},
   "outputs": [],
   "source": [
    "def replacer(Strategy,column):\n",
    "    imputer = SimpleImputer(strategy =Strategy, missing_values = np.NaN)\n",
    "    imputer = imputer.fit(Data[[column]])\n",
    "    Data[column] = imputer.transform(Data[[column]])\n",
    "replacer('mean','Amount($)')\n",
    "replacer('most_frequent','Stage')\n",
    "replacer('most_frequent','HeadQuarter')\n",
    "replacer('most_frequent','Sector')\n",
    "replacer('most_frequent','Founders')\n",
    "replacer('most_frequent','Investor')\n",
    "replacer('most_frequent','Founded')\n",
    "\n"
   ]
  },
  {
   "cell_type": "markdown",
   "id": "f07b1c6f",
   "metadata": {},
   "source": [
    "# Scaling \n",
    "\n",
    "Scale the numerical features using the Scikif-learn Standard Scaler"
   ]
  },
  {
   "cell_type": "code",
   "execution_count": 77,
   "id": "6e39d302",
   "metadata": {},
   "outputs": [
    {
     "data": {
      "text/plain": [
       "array([[9.65517241e-01, 1.66660275e-06],\n",
       "       [9.65517241e-01, 3.19993615e-06],\n",
       "       [9.65517241e-01, 5.19993625e-06],\n",
       "       ...,\n",
       "       [9.65517241e-01, 3.66666620e-04],\n",
       "       [8.96551724e-01, 1.73333278e-04],\n",
       "       [9.65517241e-01, 5.33332719e-05]])"
      ]
     },
     "execution_count": 77,
     "metadata": {},
     "output_type": "execute_result"
    }
   ],
   "source": [
    "scaler = MinMaxScaler()\n",
    "array = scaler.fit_transform(Data[['Founded','Amount($)']])\n",
    "array"
   ]
  },
  {
   "cell_type": "code",
   "execution_count": 75,
   "id": "7d11c6a9",
   "metadata": {},
   "outputs": [
    {
     "data": {
      "text/html": [
       "<div>\n",
       "<style scoped>\n",
       "    .dataframe tbody tr th:only-of-type {\n",
       "        vertical-align: middle;\n",
       "    }\n",
       "\n",
       "    .dataframe tbody tr th {\n",
       "        vertical-align: top;\n",
       "    }\n",
       "\n",
       "    .dataframe thead th {\n",
       "        text-align: right;\n",
       "    }\n",
       "</style>\n",
       "<table border=\"1\" class=\"dataframe\">\n",
       "  <thead>\n",
       "    <tr style=\"text-align: right;\">\n",
       "      <th></th>\n",
       "      <th>Amount($)</th>\n",
       "      <th>Founded</th>\n",
       "    </tr>\n",
       "  </thead>\n",
       "  <tbody>\n",
       "    <tr>\n",
       "      <th>0</th>\n",
       "      <td>0.965517</td>\n",
       "      <td>0.000002</td>\n",
       "    </tr>\n",
       "    <tr>\n",
       "      <th>1</th>\n",
       "      <td>0.965517</td>\n",
       "      <td>0.000003</td>\n",
       "    </tr>\n",
       "    <tr>\n",
       "      <th>2</th>\n",
       "      <td>0.965517</td>\n",
       "      <td>0.000005</td>\n",
       "    </tr>\n",
       "    <tr>\n",
       "      <th>3</th>\n",
       "      <td>0.965517</td>\n",
       "      <td>0.000013</td>\n",
       "    </tr>\n",
       "    <tr>\n",
       "      <th>4</th>\n",
       "      <td>0.965517</td>\n",
       "      <td>0.000808</td>\n",
       "    </tr>\n",
       "    <tr>\n",
       "      <th>...</th>\n",
       "      <td>...</td>\n",
       "      <td>...</td>\n",
       "    </tr>\n",
       "    <tr>\n",
       "      <th>2874</th>\n",
       "      <td>0.965517</td>\n",
       "      <td>0.000020</td>\n",
       "    </tr>\n",
       "    <tr>\n",
       "      <th>2875</th>\n",
       "      <td>0.896552</td>\n",
       "      <td>0.000133</td>\n",
       "    </tr>\n",
       "    <tr>\n",
       "      <th>2876</th>\n",
       "      <td>0.965517</td>\n",
       "      <td>0.000367</td>\n",
       "    </tr>\n",
       "    <tr>\n",
       "      <th>2877</th>\n",
       "      <td>0.896552</td>\n",
       "      <td>0.000173</td>\n",
       "    </tr>\n",
       "    <tr>\n",
       "      <th>2878</th>\n",
       "      <td>0.965517</td>\n",
       "      <td>0.000053</td>\n",
       "    </tr>\n",
       "  </tbody>\n",
       "</table>\n",
       "<p>2879 rows × 2 columns</p>\n",
       "</div>"
      ],
      "text/plain": [
       "      Amount($)   Founded\n",
       "0      0.965517  0.000002\n",
       "1      0.965517  0.000003\n",
       "2      0.965517  0.000005\n",
       "3      0.965517  0.000013\n",
       "4      0.965517  0.000808\n",
       "...         ...       ...\n",
       "2874   0.965517  0.000020\n",
       "2875   0.896552  0.000133\n",
       "2876   0.965517  0.000367\n",
       "2877   0.896552  0.000173\n",
       "2878   0.965517  0.000053\n",
       "\n",
       "[2879 rows x 2 columns]"
      ]
     },
     "execution_count": 75,
     "metadata": {},
     "output_type": "execute_result"
    }
   ],
   "source": [
    "pd.DataFrame(array,columns = ['Amount($)','Founded'])"
   ]
  },
  {
   "cell_type": "code",
   "execution_count": 71,
   "id": "510fa477",
   "metadata": {},
   "outputs": [
    {
     "data": {
      "text/plain": [
       "(2879, 2)"
      ]
     },
     "execution_count": 71,
     "metadata": {},
     "output_type": "execute_result"
    }
   ],
   "source": [
    "array.shape"
   ]
  },
  {
   "cell_type": "code",
   "execution_count": 72,
   "id": "ef6b457b",
   "metadata": {},
   "outputs": [
    {
     "data": {
      "text/plain": [
       "(2879, 9)"
      ]
     },
     "execution_count": 72,
     "metadata": {},
     "output_type": "execute_result"
    }
   ],
   "source": [
    "Data.shape"
   ]
  },
  {
   "cell_type": "markdown",
   "id": "dd641761",
   "metadata": {},
   "source": [
    "# Encoding\n",
    "\n",
    "Encode the categorical Dataset using OneHotEncoder"
   ]
  },
  {
   "cell_type": "code",
   "execution_count": 64,
   "id": "4b76d33f",
   "metadata": {},
   "outputs": [
    {
     "data": {
      "text/plain": [
       "Index(['Company/Brand', 'Sector', 'Stage', 'Amount($)', 'HeadQuarter',\n",
       "       'What it does', 'Founded', 'Founders', 'Investor'],\n",
       "      dtype='object')"
      ]
     },
     "execution_count": 64,
     "metadata": {},
     "output_type": "execute_result"
    }
   ],
   "source": [
    "Data.keys()"
   ]
  },
  {
   "cell_type": "code",
   "execution_count": 83,
   "id": "7d91001e",
   "metadata": {},
   "outputs": [
    {
     "data": {
      "text/plain": [
       "Index(['Amount($)', 'Founded', 'Company/Brand_&ME', 'Company/Brand_1Bridge',\n",
       "       'Company/Brand_1Crowd', 'Company/Brand_1K Kirana Bazaar',\n",
       "       'Company/Brand_1MG', 'Company/Brand_21K School', 'Company/Brand_3SC',\n",
       "       'Company/Brand_3one4 Capital',\n",
       "       ...\n",
       "       'Investor_growX ventures', 'Investor_growX ventures, Sangam Ventures',\n",
       "       'Investor_growX ventures, Venture Gurukool', 'Investor_http://100x.vc/',\n",
       "       'Investor_iSeed, Titan Capital', 'Investor_pi Ventures',\n",
       "       'Investor_responsAbility Investments, Blue Orchard',\n",
       "       'Investor_responsAbility, Accel',\n",
       "       'Investor_responsAbility, Grameen Impact India (GIII)',\n",
       "       'Investor_velocity.in'],\n",
       "      dtype='object', length=9753)"
      ]
     },
     "execution_count": 83,
     "metadata": {},
     "output_type": "execute_result"
    }
   ],
   "source": [
    "df2 = pd.get_dummies(data = Data, columns = ['Company/Brand', 'Sector', 'Stage', 'HeadQuarter','What it does', 'Founders', 'Investor'])\n",
    "df2.columns"
   ]
  },
  {
   "cell_type": "code",
   "execution_count": 84,
   "id": "cdffacd5",
   "metadata": {},
   "outputs": [
    {
     "data": {
      "text/html": [
       "<div>\n",
       "<style scoped>\n",
       "    .dataframe tbody tr th:only-of-type {\n",
       "        vertical-align: middle;\n",
       "    }\n",
       "\n",
       "    .dataframe tbody tr th {\n",
       "        vertical-align: top;\n",
       "    }\n",
       "\n",
       "    .dataframe thead th {\n",
       "        text-align: right;\n",
       "    }\n",
       "</style>\n",
       "<table border=\"1\" class=\"dataframe\">\n",
       "  <thead>\n",
       "    <tr style=\"text-align: right;\">\n",
       "      <th></th>\n",
       "      <th>Amount($)</th>\n",
       "      <th>Founded</th>\n",
       "      <th>Company/Brand_&amp;ME</th>\n",
       "      <th>Company/Brand_1Bridge</th>\n",
       "      <th>Company/Brand_1Crowd</th>\n",
       "      <th>Company/Brand_1K Kirana Bazaar</th>\n",
       "      <th>Company/Brand_1MG</th>\n",
       "      <th>Company/Brand_21K School</th>\n",
       "      <th>Company/Brand_3SC</th>\n",
       "      <th>Company/Brand_3one4 Capital</th>\n",
       "      <th>...</th>\n",
       "      <th>Investor_growX ventures</th>\n",
       "      <th>Investor_growX ventures, Sangam Ventures</th>\n",
       "      <th>Investor_growX ventures, Venture Gurukool</th>\n",
       "      <th>Investor_http://100x.vc/</th>\n",
       "      <th>Investor_iSeed, Titan Capital</th>\n",
       "      <th>Investor_pi Ventures</th>\n",
       "      <th>Investor_responsAbility Investments, Blue Orchard</th>\n",
       "      <th>Investor_responsAbility, Accel</th>\n",
       "      <th>Investor_responsAbility, Grameen Impact India (GIII)</th>\n",
       "      <th>Investor_velocity.in</th>\n",
       "    </tr>\n",
       "  </thead>\n",
       "  <tbody>\n",
       "    <tr>\n",
       "      <th>89</th>\n",
       "      <td>2000000.0</td>\n",
       "      <td>2017.0</td>\n",
       "      <td>0</td>\n",
       "      <td>0</td>\n",
       "      <td>0</td>\n",
       "      <td>0</td>\n",
       "      <td>0</td>\n",
       "      <td>0</td>\n",
       "      <td>0</td>\n",
       "      <td>0</td>\n",
       "      <td>...</td>\n",
       "      <td>0</td>\n",
       "      <td>0</td>\n",
       "      <td>0</td>\n",
       "      <td>0</td>\n",
       "      <td>0</td>\n",
       "      <td>0</td>\n",
       "      <td>0</td>\n",
       "      <td>0</td>\n",
       "      <td>0</td>\n",
       "      <td>0</td>\n",
       "    </tr>\n",
       "    <tr>\n",
       "      <th>10</th>\n",
       "      <td>121210624.0</td>\n",
       "      <td>2019.0</td>\n",
       "      <td>0</td>\n",
       "      <td>0</td>\n",
       "      <td>0</td>\n",
       "      <td>0</td>\n",
       "      <td>0</td>\n",
       "      <td>0</td>\n",
       "      <td>0</td>\n",
       "      <td>0</td>\n",
       "      <td>...</td>\n",
       "      <td>0</td>\n",
       "      <td>0</td>\n",
       "      <td>0</td>\n",
       "      <td>0</td>\n",
       "      <td>0</td>\n",
       "      <td>0</td>\n",
       "      <td>0</td>\n",
       "      <td>0</td>\n",
       "      <td>0</td>\n",
       "      <td>0</td>\n",
       "    </tr>\n",
       "    <tr>\n",
       "      <th>248</th>\n",
       "      <td>6000000.0</td>\n",
       "      <td>2020.0</td>\n",
       "      <td>0</td>\n",
       "      <td>0</td>\n",
       "      <td>0</td>\n",
       "      <td>0</td>\n",
       "      <td>0</td>\n",
       "      <td>0</td>\n",
       "      <td>0</td>\n",
       "      <td>0</td>\n",
       "      <td>...</td>\n",
       "      <td>0</td>\n",
       "      <td>0</td>\n",
       "      <td>0</td>\n",
       "      <td>0</td>\n",
       "      <td>0</td>\n",
       "      <td>0</td>\n",
       "      <td>0</td>\n",
       "      <td>0</td>\n",
       "      <td>0</td>\n",
       "      <td>0</td>\n",
       "    </tr>\n",
       "    <tr>\n",
       "      <th>940</th>\n",
       "      <td>250000.0</td>\n",
       "      <td>2019.0</td>\n",
       "      <td>0</td>\n",
       "      <td>0</td>\n",
       "      <td>0</td>\n",
       "      <td>0</td>\n",
       "      <td>0</td>\n",
       "      <td>0</td>\n",
       "      <td>0</td>\n",
       "      <td>0</td>\n",
       "      <td>...</td>\n",
       "      <td>0</td>\n",
       "      <td>0</td>\n",
       "      <td>0</td>\n",
       "      <td>0</td>\n",
       "      <td>0</td>\n",
       "      <td>0</td>\n",
       "      <td>0</td>\n",
       "      <td>0</td>\n",
       "      <td>0</td>\n",
       "      <td>0</td>\n",
       "    </tr>\n",
       "    <tr>\n",
       "      <th>563</th>\n",
       "      <td>10000000.0</td>\n",
       "      <td>2015.0</td>\n",
       "      <td>0</td>\n",
       "      <td>0</td>\n",
       "      <td>0</td>\n",
       "      <td>0</td>\n",
       "      <td>0</td>\n",
       "      <td>0</td>\n",
       "      <td>0</td>\n",
       "      <td>0</td>\n",
       "      <td>...</td>\n",
       "      <td>0</td>\n",
       "      <td>0</td>\n",
       "      <td>0</td>\n",
       "      <td>0</td>\n",
       "      <td>0</td>\n",
       "      <td>0</td>\n",
       "      <td>0</td>\n",
       "      <td>0</td>\n",
       "      <td>0</td>\n",
       "      <td>0</td>\n",
       "    </tr>\n",
       "  </tbody>\n",
       "</table>\n",
       "<p>5 rows × 9753 columns</p>\n",
       "</div>"
      ],
      "text/plain": [
       "       Amount($)  Founded  Company/Brand_&ME  Company/Brand_1Bridge  \\\n",
       "89     2000000.0   2017.0                  0                      0   \n",
       "10   121210624.0   2019.0                  0                      0   \n",
       "248    6000000.0   2020.0                  0                      0   \n",
       "940     250000.0   2019.0                  0                      0   \n",
       "563   10000000.0   2015.0                  0                      0   \n",
       "\n",
       "     Company/Brand_1Crowd  Company/Brand_1K Kirana Bazaar  Company/Brand_1MG  \\\n",
       "89                      0                               0                  0   \n",
       "10                      0                               0                  0   \n",
       "248                     0                               0                  0   \n",
       "940                     0                               0                  0   \n",
       "563                     0                               0                  0   \n",
       "\n",
       "     Company/Brand_21K School  Company/Brand_3SC  Company/Brand_3one4 Capital  \\\n",
       "89                          0                  0                            0   \n",
       "10                          0                  0                            0   \n",
       "248                         0                  0                            0   \n",
       "940                         0                  0                            0   \n",
       "563                         0                  0                            0   \n",
       "\n",
       "     ...  Investor_growX ventures  Investor_growX ventures, Sangam Ventures  \\\n",
       "89   ...                        0                                         0   \n",
       "10   ...                        0                                         0   \n",
       "248  ...                        0                                         0   \n",
       "940  ...                        0                                         0   \n",
       "563  ...                        0                                         0   \n",
       "\n",
       "     Investor_growX ventures, Venture Gurukool  Investor_http://100x.vc/  \\\n",
       "89                                           0                         0   \n",
       "10                                           0                         0   \n",
       "248                                          0                         0   \n",
       "940                                          0                         0   \n",
       "563                                          0                         0   \n",
       "\n",
       "     Investor_iSeed, Titan Capital  Investor_pi Ventures  \\\n",
       "89                               0                     0   \n",
       "10                               0                     0   \n",
       "248                              0                     0   \n",
       "940                              0                     0   \n",
       "563                              0                     0   \n",
       "\n",
       "     Investor_responsAbility Investments, Blue Orchard  \\\n",
       "89                                                   0   \n",
       "10                                                   0   \n",
       "248                                                  0   \n",
       "940                                                  0   \n",
       "563                                                  0   \n",
       "\n",
       "     Investor_responsAbility, Accel  \\\n",
       "89                                0   \n",
       "10                                0   \n",
       "248                               0   \n",
       "940                               0   \n",
       "563                               0   \n",
       "\n",
       "     Investor_responsAbility, Grameen Impact India (GIII)  \\\n",
       "89                                                   0      \n",
       "10                                                   0      \n",
       "248                                                  0      \n",
       "940                                                  0      \n",
       "563                                                  0      \n",
       "\n",
       "     Investor_velocity.in  \n",
       "89                      0  \n",
       "10                      0  \n",
       "248                     0  \n",
       "940                     0  \n",
       "563                     0  \n",
       "\n",
       "[5 rows x 9753 columns]"
      ]
     },
     "execution_count": 84,
     "metadata": {},
     "output_type": "execute_result"
    }
   ],
   "source": [
    "df2.sample(5)"
   ]
  },
  {
   "cell_type": "code",
   "execution_count": 85,
   "id": "76156551",
   "metadata": {},
   "outputs": [
    {
     "data": {
      "text/plain": [
       "(2879, 9753)"
      ]
     },
     "execution_count": 85,
     "metadata": {},
     "output_type": "execute_result"
    }
   ],
   "source": [
    "df2.shape"
   ]
  },
  {
   "cell_type": "code",
   "execution_count": null,
   "id": "c03538dc",
   "metadata": {},
   "outputs": [],
   "source": []
  }
 ],
 "metadata": {
  "kernelspec": {
   "display_name": "Python 3 (ipykernel)",
   "language": "python",
   "name": "python3"
  },
  "language_info": {
   "codemirror_mode": {
    "name": "ipython",
    "version": 3
   },
   "file_extension": ".py",
   "mimetype": "text/x-python",
   "name": "python",
   "nbconvert_exporter": "python",
   "pygments_lexer": "ipython3",
   "version": "3.9.12"
  }
 },
 "nbformat": 4,
 "nbformat_minor": 5
}
